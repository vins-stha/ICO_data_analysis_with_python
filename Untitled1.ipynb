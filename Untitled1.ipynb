{
 "cells": [
  {
   "cell_type": "code",
   "execution_count": 20,
   "metadata": {},
   "outputs": [],
   "source": [
    "import pandas as pd\n",
    "import matplotlib.pyplot as plt\n",
    "import seaborn as sns\n",
    "import numpy as np\n",
    "import sklearn as sk"
   ]
  },
  {
   "cell_type": "code",
   "execution_count": 21,
   "metadata": {},
   "outputs": [],
   "source": [
    "import warnings\n",
    "warnings.filterwarnings('ignore')"
   ]
  },
  {
   "cell_type": "code",
   "execution_count": 22,
   "metadata": {
    "scrolled": true
   },
   "outputs": [
    {
     "data": {
      "text/plain": [
       "Index(['ico_name', 'ticker', 'platform', 'token', 'country', 'hardcap',\n",
       "       'softcap', 'raised', 'ih_hardcap', 'ih_softcap', 'ih_raised',\n",
       "       'bounty_status', 'activy_status', 'twitter_status',\n",
       "       'bitcointalk_status', 'telegram_status', 'social_rating',\n",
       "       'profile_rating', 'team_rating_ib', 'team_rating_im', 'product_rating',\n",
       "       'vision_rating', 'icobench_rating', 'icomarks_rating',\n",
       "       'icobazaar_rating', 'aggregate_rating', 'date_ended'],\n",
       "      dtype='object')"
      ]
     },
     "execution_count": 22,
     "metadata": {},
     "output_type": "execute_result"
    }
   ],
   "source": [
    "df = pd.read_csv(\"Desktop/all_ico_data.csv\")\n",
    "# df = pd.read_csv(\"Desktop/icos2019.csv\")\n",
    "\n",
    "df.columns\n",
    "for i in df.index:\n",
    "    try:\n",
    "        if (type(df['hardcap'][i]) == str and \",\" in df['hardcap'][i]) or (type(df['ih_hardcap'][i]) == str and \",\" in df['ih_hardcap'][i]) : \n",
    "            #print(i, \".hardap>>\", df['ico_name'][i], df['hardcap'][i])\n",
    "            df['hardcap'][i] = df['hardcap'][i].replace(\",\",\"\")\n",
    "            df['hardcap'][i] = float(df['hardcap'][i])\n",
    "            df['ih_hardcap'][i] = df['ih_hardcap'][i].replace(\",\",\"\")\n",
    "            df['ih_hardcap'][i] = float(df['ih_hardcap'][i])\n",
    "        \n",
    "           \n",
    "            \n",
    "        if type(df['ih_raised'][i]) == str and \",\" in df['ih_raised'][i]:\n",
    "            print(i, \".ico_Raised>>\", df['ico_name'][i], df['ih_raised'][i])\n",
    "            df['ih_raised'][i] = df['ih_raised'][i].replace(\",\",\"\")\n",
    "            \n",
    "            df['ih_raised'][i] = float(df['ih_raised'][i])\n",
    "            \n",
    "        if (type(df['softcap'][i]) == str and \",\" in df['softcap'][i]) or (type(df['ih_softcap'][i]) == str and \",\" in df['ih_softcap'][i]) : \n",
    "            #print(i, \".hardap>>\", df['ico_name'][i], df['hardcap'][i])\n",
    "            df['softcap'][i] = df['softcap'][i].replace(\",\",\"\")\n",
    "            df['softcap'][i] = float(df['softcap'][i])\n",
    "            df['ih_softcap'][i] = df['ih_softcap'][i].replace(\",\",\"\")\n",
    "            df['ih_softcap'][i] = df['ih_softcap'][i].replace(\" \",\"\")\n",
    "            df['ih_softcap'][i] = float(df['ih_softcap'][i])             \n",
    "            \n",
    "    except Exception as e:\n",
    "        pass\n",
    "    #print(\"After>>.\", df['hardcap'][i],\"\\t\" ,df['ih_raised'][i] )\n",
    "df.columns"
   ]
  },
  {
   "cell_type": "code",
   "execution_count": 23,
   "metadata": {},
   "outputs": [
    {
     "data": {
      "text/plain": [
       "(3468, 20)"
      ]
     },
     "execution_count": 23,
     "metadata": {},
     "output_type": "execute_result"
    }
   ],
   "source": [
    "## Create a subset dataframe out of main df excluding relavtively less important columns/or with most NaN values\n",
    "sub_df = df.drop(['ticker', 'platform', 'profile_rating', 'date_ended','country','bounty_status','icobazaar_rating'], axis=1) \n",
    "sub_df.shape\n"
   ]
  },
  {
   "cell_type": "code",
   "execution_count": 24,
   "metadata": {},
   "outputs": [
    {
     "data": {
      "text/plain": [
       "((369, 20),\n",
       " Index(['ico_name', 'token', 'hardcap', 'softcap', 'raised', 'ih_hardcap',\n",
       "        'ih_softcap', 'ih_raised', 'activy_status', 'twitter_status',\n",
       "        'bitcointalk_status', 'telegram_status', 'social_rating',\n",
       "        'team_rating_ib', 'team_rating_im', 'product_rating', 'vision_rating',\n",
       "        'icobench_rating', 'icomarks_rating', 'aggregate_rating'],\n",
       "       dtype='object'))"
      ]
     },
     "execution_count": 24,
     "metadata": {},
     "output_type": "execute_result"
    }
   ],
   "source": [
    "#test = df_team.groupby('platform')[['aggregate_rating', 'ih_raised']].mean()\n",
    "\n",
    "## _dDrop all the rows whose column values for relevant raised and aggreagate rating is NaN\n",
    "sub_df = sub_df.dropna(subset=['ih_raised','softcap','ih_softcap','aggregate_rating'])\n",
    "sub_df.shape, sub_df.columns\n"
   ]
  },
  {
   "cell_type": "code",
   "execution_count": 510,
   "metadata": {},
   "outputs": [],
   "source": [
    "# ## just checking if there are softcap and amount raised available from icobench where ih_raised, percentage_raised is null\n",
    "\n",
    "# for i in sub_df.index:\n",
    "#     try:\n",
    "#         hardcap = sub_df['ih_hardcap'][i]\n",
    "        \n",
    "#         raised_percentage_hc = sub_df['ih_raised'][i]   \n",
    "       \n",
    "#         softcap = sub_df['ih_softcap'][i]\n",
    "#         softcap2 = (sub_df['softcap'][i])\n",
    "#         amount_raised2 = (sub_df['raised'])\n",
    "        \n",
    "#         try:\n",
    "#             if hardcap == \"-\"  and (raised_percentage_hc== \"-\" or raised_percentage_hc== \" N/A\" or raised_percentage_hc == np.NaN):\n",
    "#                 print(sub_df['ico_name'][i],'softcap2=',softcap2, 'amount raised2', amount_raised2);\n",
    "#         except Exception as e:\n",
    "#             print('inner exception = ', e)\n",
    "    \n",
    "\n",
    "#     except Exception as e:\n",
    "#         j = j+1\n",
    "#         #print(e, funds['ico_name'][i])     \n"
   ]
  },
  {
   "cell_type": "code",
   "execution_count": 25,
   "metadata": {},
   "outputs": [
    {
     "data": {
      "text/html": [
       "<div>\n",
       "<style scoped>\n",
       "    .dataframe tbody tr th:only-of-type {\n",
       "        vertical-align: middle;\n",
       "    }\n",
       "\n",
       "    .dataframe tbody tr th {\n",
       "        vertical-align: top;\n",
       "    }\n",
       "\n",
       "    .dataframe thead th {\n",
       "        text-align: right;\n",
       "    }\n",
       "</style>\n",
       "<table border=\"1\" class=\"dataframe\">\n",
       "  <thead>\n",
       "    <tr style=\"text-align: right;\">\n",
       "      <th></th>\n",
       "      <th>ico_name</th>\n",
       "      <th>hardcap</th>\n",
       "      <th>softcap</th>\n",
       "      <th>raised</th>\n",
       "      <th>ih_hardcap</th>\n",
       "      <th>ih_softcap</th>\n",
       "      <th>ih_raised</th>\n",
       "      <th>team_rating_ib</th>\n",
       "      <th>team_rating_im</th>\n",
       "      <th>product_rating</th>\n",
       "      <th>vision_rating</th>\n",
       "      <th>icobench_rating</th>\n",
       "      <th>icomarks_rating</th>\n",
       "      <th>aggregate_rating</th>\n",
       "    </tr>\n",
       "  </thead>\n",
       "  <tbody>\n",
       "    <tr>\n",
       "      <th>0</th>\n",
       "      <td>Spiking</td>\n",
       "      <td>32500000</td>\n",
       "      <td>2000000</td>\n",
       "      <td>32230000</td>\n",
       "      <td>32500000</td>\n",
       "      <td>2000000</td>\n",
       "      <td>99</td>\n",
       "      <td>4.8</td>\n",
       "      <td>10.0</td>\n",
       "      <td>4.2</td>\n",
       "      <td>4.1</td>\n",
       "      <td>4.4</td>\n",
       "      <td>9.6</td>\n",
       "      <td>4.4</td>\n",
       "    </tr>\n",
       "    <tr>\n",
       "      <th>1</th>\n",
       "      <td>INLOCK</td>\n",
       "      <td>27500000</td>\n",
       "      <td>15000000</td>\n",
       "      <td>NaN</td>\n",
       "      <td>27500000</td>\n",
       "      <td>15000000</td>\n",
       "      <td>89</td>\n",
       "      <td>5.0</td>\n",
       "      <td>10.0</td>\n",
       "      <td>4.0</td>\n",
       "      <td>4.4</td>\n",
       "      <td>NaN</td>\n",
       "      <td>NaN</td>\n",
       "      <td>4.3</td>\n",
       "    </tr>\n",
       "    <tr>\n",
       "      <th>2</th>\n",
       "      <td>LAPO Blockchain</td>\n",
       "      <td>50000000</td>\n",
       "      <td>500000</td>\n",
       "      <td>NaN</td>\n",
       "      <td>50000000</td>\n",
       "      <td>30000000</td>\n",
       "      <td>80</td>\n",
       "      <td>3.9</td>\n",
       "      <td>NaN</td>\n",
       "      <td>4.0</td>\n",
       "      <td>4.5</td>\n",
       "      <td>4.0</td>\n",
       "      <td>8.9</td>\n",
       "      <td>4.0</td>\n",
       "    </tr>\n",
       "    <tr>\n",
       "      <th>3</th>\n",
       "      <td>INGOT Coin</td>\n",
       "      <td>90000000</td>\n",
       "      <td>37000000</td>\n",
       "      <td>40000000</td>\n",
       "      <td>90000000</td>\n",
       "      <td>90000000</td>\n",
       "      <td>44</td>\n",
       "      <td>NaN</td>\n",
       "      <td>NaN</td>\n",
       "      <td>NaN</td>\n",
       "      <td>NaN</td>\n",
       "      <td>3.7</td>\n",
       "      <td>9.5</td>\n",
       "      <td>3.7</td>\n",
       "    </tr>\n",
       "    <tr>\n",
       "      <th>4</th>\n",
       "      <td>Resto</td>\n",
       "      <td>50000</td>\n",
       "      <td>12500</td>\n",
       "      <td>2136000</td>\n",
       "      <td>50000</td>\n",
       "      <td>12500</td>\n",
       "      <td>51</td>\n",
       "      <td>5.0</td>\n",
       "      <td>NaN</td>\n",
       "      <td>4.0</td>\n",
       "      <td>4.5</td>\n",
       "      <td>4.3</td>\n",
       "      <td>9.3</td>\n",
       "      <td>4.3</td>\n",
       "    </tr>\n",
       "    <tr>\n",
       "      <th>...</th>\n",
       "      <td>...</td>\n",
       "      <td>...</td>\n",
       "      <td>...</td>\n",
       "      <td>...</td>\n",
       "      <td>...</td>\n",
       "      <td>...</td>\n",
       "      <td>...</td>\n",
       "      <td>...</td>\n",
       "      <td>...</td>\n",
       "      <td>...</td>\n",
       "      <td>...</td>\n",
       "      <td>...</td>\n",
       "      <td>...</td>\n",
       "      <td>...</td>\n",
       "    </tr>\n",
       "    <tr>\n",
       "      <th>3362</th>\n",
       "      <td>IZICHAIN</td>\n",
       "      <td>24000</td>\n",
       "      <td>4000</td>\n",
       "      <td>2000000</td>\n",
       "      <td>2400000</td>\n",
       "      <td>400000</td>\n",
       "      <td>16</td>\n",
       "      <td>NaN</td>\n",
       "      <td>10.0</td>\n",
       "      <td>NaN</td>\n",
       "      <td>NaN</td>\n",
       "      <td>2.8</td>\n",
       "      <td>8.6</td>\n",
       "      <td>2.8</td>\n",
       "    </tr>\n",
       "    <tr>\n",
       "      <th>3368</th>\n",
       "      <td>Lynked.World</td>\n",
       "      <td>25000000</td>\n",
       "      <td>5000000</td>\n",
       "      <td>6215494</td>\n",
       "      <td>2500000000</td>\n",
       "      <td>500000000</td>\n",
       "      <td>24</td>\n",
       "      <td>4.6</td>\n",
       "      <td>NaN</td>\n",
       "      <td>4.3</td>\n",
       "      <td>4.5</td>\n",
       "      <td>4.4</td>\n",
       "      <td>9.3</td>\n",
       "      <td>4.4</td>\n",
       "    </tr>\n",
       "    <tr>\n",
       "      <th>3428</th>\n",
       "      <td>DIPChain</td>\n",
       "      <td>34000</td>\n",
       "      <td>6000</td>\n",
       "      <td>8500000</td>\n",
       "      <td>150000000</td>\n",
       "      <td>117000000</td>\n",
       "      <td>97</td>\n",
       "      <td>NaN</td>\n",
       "      <td>6.0</td>\n",
       "      <td>NaN</td>\n",
       "      <td>NaN</td>\n",
       "      <td>4.0</td>\n",
       "      <td>8.5</td>\n",
       "      <td>4.0</td>\n",
       "    </tr>\n",
       "    <tr>\n",
       "      <th>3431</th>\n",
       "      <td>BuratinoBS</td>\n",
       "      <td>18000000</td>\n",
       "      <td>3000000</td>\n",
       "      <td>10150000</td>\n",
       "      <td>1800000000</td>\n",
       "      <td>300000000</td>\n",
       "      <td>56</td>\n",
       "      <td>4.2</td>\n",
       "      <td>10.0</td>\n",
       "      <td>4.2</td>\n",
       "      <td>3.8</td>\n",
       "      <td>4.1</td>\n",
       "      <td>9.6</td>\n",
       "      <td>4.1</td>\n",
       "    </tr>\n",
       "    <tr>\n",
       "      <th>3439</th>\n",
       "      <td>IdealCoin</td>\n",
       "      <td>40932971</td>\n",
       "      <td>3000000</td>\n",
       "      <td>1900000</td>\n",
       "      <td>4093297100</td>\n",
       "      <td>300000000</td>\n",
       "      <td>7</td>\n",
       "      <td>NaN</td>\n",
       "      <td>2.0</td>\n",
       "      <td>NaN</td>\n",
       "      <td>NaN</td>\n",
       "      <td>NaN</td>\n",
       "      <td>-</td>\n",
       "      <td>3.5</td>\n",
       "    </tr>\n",
       "  </tbody>\n",
       "</table>\n",
       "<p>346 rows × 14 columns</p>\n",
       "</div>"
      ],
      "text/plain": [
       "             ico_name    hardcap    softcap     raised  ih_hardcap ih_softcap  \\\n",
       "0             Spiking  32500000    2000000   32230000     32500000    2000000   \n",
       "1              INLOCK  27500000   15000000         NaN    27500000   15000000   \n",
       "2     LAPO Blockchain  50000000     500000         NaN    50000000   30000000   \n",
       "3          INGOT Coin  90000000   37000000   40000000     90000000   90000000   \n",
       "4               Resto     50000      12500    2136000        50000     12500    \n",
       "...               ...        ...        ...        ...         ...        ...   \n",
       "3362         IZICHAIN      24000       4000    2000000     2400000     400000   \n",
       "3368     Lynked.World   25000000    5000000    6215494  2500000000  500000000   \n",
       "3428         DIPChain      34000       6000    8500000   150000000  117000000   \n",
       "3431       BuratinoBS   18000000    3000000   10150000  1800000000  300000000   \n",
       "3439        IdealCoin   40932971    3000000    1900000  4093297100  300000000   \n",
       "\n",
       "     ih_raised  team_rating_ib  team_rating_im  product_rating  vision_rating  \\\n",
       "0           99             4.8            10.0             4.2            4.1   \n",
       "1           89             5.0            10.0             4.0            4.4   \n",
       "2           80             3.9             NaN             4.0            4.5   \n",
       "3           44             NaN             NaN             NaN            NaN   \n",
       "4           51             5.0             NaN             4.0            4.5   \n",
       "...        ...             ...             ...             ...            ...   \n",
       "3362        16             NaN            10.0             NaN            NaN   \n",
       "3368        24             4.6             NaN             4.3            4.5   \n",
       "3428        97             NaN             6.0             NaN            NaN   \n",
       "3431        56             4.2            10.0             4.2            3.8   \n",
       "3439         7             NaN             2.0             NaN            NaN   \n",
       "\n",
       "     icobench_rating icomarks_rating aggregate_rating  \n",
       "0                4.4             9.6              4.4  \n",
       "1                NaN             NaN              4.3  \n",
       "2                4.0             8.9              4.0  \n",
       "3                3.7             9.5              3.7  \n",
       "4                4.3             9.3              4.3  \n",
       "...              ...             ...              ...  \n",
       "3362             2.8             8.6              2.8  \n",
       "3368             4.4             9.3              4.4  \n",
       "3428             4.0             8.5              4.0  \n",
       "3431             4.1             9.6              4.1  \n",
       "3439             NaN               -              3.5  \n",
       "\n",
       "[346 rows x 14 columns]"
      ]
     },
     "execution_count": 25,
     "metadata": {},
     "output_type": "execute_result"
    }
   ],
   "source": [
    "## 1. Create subset dataframe with only caps and rating columns to determine correlation among the caps and the ratings\n",
    "## 2. Create subset dataframe with only caps and social activities to determine correlation among the caps and the social activities\n",
    "\n",
    "df_caps_rating = sub_df[['ico_name', 'hardcap','softcap', 'raised',\n",
    "       'ih_hardcap', 'ih_softcap','ih_raised','team_rating_ib', 'team_rating_im', 'product_rating', 'vision_rating','icobench_rating', 'icomarks_rating', 'aggregate_rating']]\n",
    "df_caps_rating.drop_duplicates(subset=['ico_name'], keep='first', inplace=True, ignore_index=False);\n",
    "# df_caps_rating.to_csv(\"Desktop/clean_2019.csv\");\n",
    "df_caps_rating"
   ]
  },
  {
   "cell_type": "code",
   "execution_count": 28,
   "metadata": {
    "scrolled": true
   },
   "outputs": [
    {
     "data": {
      "text/plain": [
       "Index(['ico_name', 'hardcap', 'softcap', 'raised', 'ih_hardcap', 'ih_softcap',\n",
       "       'ih_raised', 'team_rating_ib', 'team_rating_im', 'product_rating',\n",
       "       'vision_rating', 'icobench_rating', 'icomarks_rating',\n",
       "       'aggregate_rating', 'raised_percentage_sc'],\n",
       "      dtype='object')"
      ]
     },
     "execution_count": 28,
     "metadata": {},
     "output_type": "execute_result"
    }
   ],
   "source": [
    "\n",
    "### Add column with listing of amount raised in percentage based on softcap\n",
    "\n",
    "amount = raised_sc_pc = percent_raised = 0\n",
    "raised_pc =[]\n",
    "df_fundsVsIcoRating = funds = df_caps_rating \n",
    "count = 0\n",
    "j=0\n",
    "for i in funds.index:\n",
    "    \n",
    "    try:\n",
    "        hardcap = float(funds['ih_hardcap'][i])\n",
    "        raised_percentage_hc = float(funds['ih_raised'][i])   \n",
    "        softcap = float(funds['ih_softcap'][i])\n",
    "    \n",
    "        try:\n",
    "            amount_raised = raised_percentage_hc * hardcap \n",
    "            raised_percentage_sc =round((amount_raised / softcap),2)\n",
    "            count = count +1\n",
    "\n",
    "        except Exception as e:\n",
    "            print(\"EXCEPTION\",e)\n",
    "            j = j+1\n",
    "    except Exception as e:\n",
    "        \n",
    "        print(e, funds['ico_name'][i])                  \n",
    "            \n",
    "    if raised_percentage_sc >= 100:\n",
    "        raised_percentage_sc = 100   \n",
    "    df_fundsVsIcoRating['raised_percentage_sc'][i]= raised_percentage_sc;\n",
    "\n",
    "df_fundsVsIcoRating['raised_percentage_sc'];\n",
    "                       \n",
    "df_fundsVsIcoRating.columns"
   ]
  },
  {
   "cell_type": "code",
   "execution_count": 29,
   "metadata": {
    "scrolled": false
   },
   "outputs": [],
   "source": [
    "## Drop off capital columns and other other repetitive features\n",
    "\n",
    "df_fundsVsIcoRating_only = df_fundsVsIcoRating[['raised_percentage_sc','team_rating_ib','product_rating',\n",
    "       'vision_rating', 'aggregate_rating']]\n",
    "\n",
    "df_fundsVsIcoRating_only = df_fundsVsIcoRating_only.dropna()\n",
    "\n",
    "features = df_fundsVsIcoRating_only[['aggregate_rating','team_rating_ib','product_rating','vision_rating']]\n",
    "\n",
    "target = df_fundsVsIcoRating_only[['raised_percentage_sc']]#.values\n",
    "\n"
   ]
  },
  {
   "cell_type": "code",
   "execution_count": null,
   "metadata": {},
   "outputs": [],
   "source": []
  },
  {
   "cell_type": "code",
   "execution_count": null,
   "metadata": {},
   "outputs": [],
   "source": []
  },
  {
   "cell_type": "code",
   "execution_count": null,
   "metadata": {},
   "outputs": [],
   "source": []
  },
  {
   "cell_type": "code",
   "execution_count": null,
   "metadata": {},
   "outputs": [],
   "source": []
  },
  {
   "cell_type": "code",
   "execution_count": 1,
   "metadata": {
    "scrolled": false
   },
   "outputs": [
    {
     "ename": "NameError",
     "evalue": "name 'df_fundsVsIcoRating_only' is not defined",
     "output_type": "error",
     "traceback": [
      "\u001b[1;31m---------------------------------------------------------------------------\u001b[0m",
      "\u001b[1;31mNameError\u001b[0m                                 Traceback (most recent call last)",
      "\u001b[1;32m<ipython-input-1-abb457a737f2>\u001b[0m in \u001b[0;36m<module>\u001b[1;34m\u001b[0m\n\u001b[0;32m      1\u001b[0m \u001b[1;31m## Scatter plots\u001b[0m\u001b[1;33m\u001b[0m\u001b[1;33m\u001b[0m\u001b[1;33m\u001b[0m\u001b[0m\n\u001b[0;32m      2\u001b[0m \u001b[1;33m\u001b[0m\u001b[0m\n\u001b[1;32m----> 3\u001b[1;33m \u001b[0mindex\u001b[0m \u001b[1;33m=\u001b[0m \u001b[0mtarget\u001b[0m \u001b[1;33m=\u001b[0m \u001b[0mdf_fundsVsIcoRating_only\u001b[0m\u001b[1;33m[\u001b[0m\u001b[1;34m'raised_percentage_sc'\u001b[0m\u001b[1;33m]\u001b[0m\u001b[1;33m\u001b[0m\u001b[1;33m\u001b[0m\u001b[0m\n\u001b[0m\u001b[0;32m      4\u001b[0m \u001b[0mcols\u001b[0m \u001b[1;33m=\u001b[0m \u001b[0mfeatures\u001b[0m \u001b[1;33m=\u001b[0m \u001b[0mdf_fundsVsIcoRating_only\u001b[0m\u001b[1;33m.\u001b[0m\u001b[0mdrop\u001b[0m\u001b[1;33m(\u001b[0m\u001b[1;33m[\u001b[0m\u001b[1;34m'raised_percentage_sc'\u001b[0m\u001b[1;33m]\u001b[0m\u001b[1;33m,\u001b[0m\u001b[0maxis\u001b[0m\u001b[1;33m=\u001b[0m\u001b[1;36m1\u001b[0m\u001b[1;33m)\u001b[0m\u001b[1;33m\u001b[0m\u001b[1;33m\u001b[0m\u001b[0m\n\u001b[0;32m      5\u001b[0m \u001b[1;33m\u001b[0m\u001b[0m\n",
      "\u001b[1;31mNameError\u001b[0m: name 'df_fundsVsIcoRating_only' is not defined"
     ]
    }
   ],
   "source": [
    "## Scatter plots \n",
    "\n",
    "index = target = df_fundsVsIcoRating_only['raised_percentage_sc']\n",
    "cols = features = df_fundsVsIcoRating_only.drop(['raised_percentage_sc'],axis=1)\n",
    "\n",
    "## 1. All scatterplots in one \n",
    "\n",
    "plt.figure(figsize=(12,6));\n",
    "for col in features.columns:\n",
    "    col_index= features.columns.get_loc(col)\n",
    "    if col == \"aggregate_rating\":      \n",
    "        features = features.sort_values(by='aggregate_rating',ascending = True) \n",
    "\n",
    "    sns.scatterplot(features.iloc[:,col_index], target, label=col);\n",
    "\n",
    "## 2. Individual Scatter plot for each indepedent variables against dependent variable\n",
    " \n",
    "for col in features.columns:\n",
    "    figure = plt.figure(figsize=(6,6));    \n",
    "    \n",
    "    if col == \"aggregate_rating\":\n",
    "        plt.figure(figsize=(12,6));\n",
    "        features = features.sort_values(by='aggregate_rating',ascending = True)  \n",
    "    \n",
    "    ax = plt.gca();\n",
    "    ax.scatter(features[col],target,label=col);\n",
    "    ax.set_xlabel(col)\n",
    "    ax.set_ylabel(\"raised_percentage_sc\")\n",
    "\n",
    "    ax.set_title(\"{} vs {}\".format(col, 'raised_percentage_sc'));\n",
    "    print(\"\\n\") \n",
    "\n",
    "    plt.legend();\n",
    "#     plt.show();\n"
   ]
  },
  {
   "cell_type": "code",
   "execution_count": 14,
   "metadata": {},
   "outputs": [
    {
     "data": {
      "text/plain": [
       "<seaborn.axisgrid.PairGrid at 0x112fb20>"
      ]
     },
     "execution_count": 14,
     "metadata": {},
     "output_type": "execute_result"
    },
    {
     "data": {
      "image/png": "[encoded data removed]",
      "text/plain": [
       "<Figure size 900x900 with 30 Axes>"
      ]
     },
     "metadata": {
      "needs_background": "light"
     },
     "output_type": "display_data"
    }
   ],
   "source": [
    "from scipy.stats import pearsonr\n",
    "\n",
    "values = df_fundsVsIcoRating_only.astype(float).values\n",
    "\n",
    "sns.pairplot(df_fundsVsIcoRating_only.astype(float).corr())\n"
   ]
  },
  {
   "cell_type": "code",
   "execution_count": null,
   "metadata": {},
   "outputs": [],
   "source": []
  },
  {
   "cell_type": "code",
   "execution_count": 17,
   "metadata": {},
   "outputs": [],
   "source": [
    "## 3 Training \n",
    "\n",
    "from sklearn.model_selection import train_test_split\n",
    "\n",
    "train_X, test_x, train_Y,test_y = train_test_split(features,target, test_size = 0.6, random_state = 2)\n"
   ]
  },
  {
   "cell_type": "code",
   "execution_count": 47,
   "metadata": {},
   "outputs": [
    {
     "name": "stdout",
     "output_type": "stream",
     "text": [
      "-0.030224840390483676 0.08634074648711931 0.029619018192008073\n",
      "[-6.40995525  3.50734644  3.88265755 -9.36859287] (4,)\n"
     ]
    },
    {
     "data": {
      "text/html": [
       "<div>\n",
       "<style scoped>\n",
       "    .dataframe tbody tr th:only-of-type {\n",
       "        vertical-align: middle;\n",
       "    }\n",
       "\n",
       "    .dataframe tbody tr th {\n",
       "        vertical-align: top;\n",
       "    }\n",
       "\n",
       "    .dataframe thead th {\n",
       "        text-align: right;\n",
       "    }\n",
       "</style>\n",
       "<table border=\"1\" class=\"dataframe\">\n",
       "  <thead>\n",
       "    <tr style=\"text-align: right;\">\n",
       "      <th></th>\n",
       "      <th>raised_percentage_sc</th>\n",
       "      <th>team_rating_ib</th>\n",
       "      <th>product_rating</th>\n",
       "      <th>vision_rating</th>\n",
       "      <th>aggregate_rating</th>\n",
       "    </tr>\n",
       "  </thead>\n",
       "  <tbody>\n",
       "    <tr>\n",
       "      <th>raised_percentage_sc</th>\n",
       "      <td>1.000000</td>\n",
       "      <td>-0.012852</td>\n",
       "      <td>-0.009771</td>\n",
       "      <td>0.012369</td>\n",
       "      <td>0.019995</td>\n",
       "    </tr>\n",
       "    <tr>\n",
       "      <th>team_rating_ib</th>\n",
       "      <td>-0.012852</td>\n",
       "      <td>1.000000</td>\n",
       "      <td>0.835826</td>\n",
       "      <td>0.765987</td>\n",
       "      <td>0.775827</td>\n",
       "    </tr>\n",
       "    <tr>\n",
       "      <th>product_rating</th>\n",
       "      <td>-0.009771</td>\n",
       "      <td>0.835826</td>\n",
       "      <td>1.000000</td>\n",
       "      <td>0.832115</td>\n",
       "      <td>0.756346</td>\n",
       "    </tr>\n",
       "    <tr>\n",
       "      <th>vision_rating</th>\n",
       "      <td>0.012369</td>\n",
       "      <td>0.765987</td>\n",
       "      <td>0.832115</td>\n",
       "      <td>1.000000</td>\n",
       "      <td>0.726386</td>\n",
       "    </tr>\n",
       "    <tr>\n",
       "      <th>aggregate_rating</th>\n",
       "      <td>0.019995</td>\n",
       "      <td>0.775827</td>\n",
       "      <td>0.756346</td>\n",
       "      <td>0.726386</td>\n",
       "      <td>1.000000</td>\n",
       "    </tr>\n",
       "  </tbody>\n",
       "</table>\n",
       "</div>"
      ],
      "text/plain": [
       "                      raised_percentage_sc  team_rating_ib  product_rating  \\\n",
       "raised_percentage_sc              1.000000       -0.012852       -0.009771   \n",
       "team_rating_ib                   -0.012852        1.000000        0.835826   \n",
       "product_rating                   -0.009771        0.835826        1.000000   \n",
       "vision_rating                     0.012369        0.765987        0.832115   \n",
       "aggregate_rating                  0.019995        0.775827        0.756346   \n",
       "\n",
       "                      vision_rating  aggregate_rating  \n",
       "raised_percentage_sc       0.012369          0.019995  \n",
       "team_rating_ib             0.765987          0.775827  \n",
       "product_rating             0.832115          0.756346  \n",
       "vision_rating              1.000000          0.726386  \n",
       "aggregate_rating           0.726386          1.000000  "
      ]
     },
     "execution_count": 47,
     "metadata": {},
     "output_type": "execute_result"
    }
   ],
   "source": [
    "## 3.1. Linear Regression\n",
    "from sklearn.linear_model import LinearRegression\n",
    "\n",
    "reg = LinearRegression().fit(train_X,train_Y)\n",
    "reg_model = LinearRegression().fit(features, target)\n",
    "\n",
    "print(reg.score(test_x,test_y),reg.score(train_X,train_Y),reg_model.score(features,target))\n",
    "print(reg_model.coef_,reg_model.coef_.shape)\n",
    "\n",
    "df_fundsVsIcoRating_only['aggregate_rating'] = df_fundsVsIcoRating_only['aggregate_rating'].astype(float)\n",
    "df_fundsVsIcoRating_only.corr()\n"
   ]
  },
  {
   "cell_type": "code",
   "execution_count": null,
   "metadata": {},
   "outputs": [],
   "source": [
    "from sklearn.linear_model import Ridge\n",
    "\n",
    "ridge_model = Ridge().fit(features, target)\n",
    "# pd.Series(ridge_model.coef_, index = features.columns).plot(kind='barh')\n",
    "ridge_model.coef_"
   ]
  },
  {
   "cell_type": "code",
   "execution_count": null,
   "metadata": {},
   "outputs": [],
   "source": [
    " ## 2. Lasso \n",
    "from sklearn import linear_model\n",
    "lasso_reg = linear_model.Lasso(alpha= 0.8, max_iter=100, tol=0.1)\n",
    "lasso_reg.fit(train_X,train_Y)  \n",
    "\n",
    "test = lasso_reg.score(test_x,test_y)\n",
    "train = lasso_reg.score(train_X,train_Y)\n",
    "\n",
    "train, test,(train - test)"
   ]
  },
  {
   "cell_type": "code",
   "execution_count": 1001,
   "metadata": {},
   "outputs": [
    {
     "data": {
      "text/plain": [
       "(0.002208259532846202, 0.05005128571646589)"
      ]
     },
     "execution_count": 1001,
     "metadata": {},
     "output_type": "execute_result"
    }
   ],
   "source": [
    "ridge = Ridge(alpha=50, max_iter=100, tol=0.1)\n",
    "ridge.fit(train_X, train_Y)\n",
    "ridge.score(test_x, test_y),ridge.score(train_X, train_Y)"
   ]
  },
  {
   "cell_type": "code",
   "execution_count": null,
   "metadata": {},
   "outputs": [],
   "source": []
  },
  {
   "cell_type": "code",
   "execution_count": 885,
   "metadata": {
    "scrolled": false
   },
   "outputs": [
    {
     "ename": "NameError",
     "evalue": "name 'funds_rate_raised2' is not defined",
     "output_type": "error",
     "traceback": [
      "\u001b[1;31m---------------------------------------------------------------------------\u001b[0m",
      "\u001b[1;31mNameError\u001b[0m                                 Traceback (most recent call last)",
      "\u001b[1;32m<ipython-input-885-ae9f7aa0a8c2>\u001b[0m in \u001b[0;36m<module>\u001b[1;34m\u001b[0m\n\u001b[0;32m      7\u001b[0m \u001b[1;31m#pearsonr(values[:,0],values[:,4])\u001b[0m\u001b[1;33m\u001b[0m\u001b[1;33m\u001b[0m\u001b[1;33m\u001b[0m\u001b[0m\n\u001b[0;32m      8\u001b[0m \u001b[1;31m#dff = pd.DataFrame([(.2, .3), (.0, .6), (.6, .0), (.2, .1)], columns=['dogs', 'cats'])\u001b[0m\u001b[1;33m\u001b[0m\u001b[1;33m\u001b[0m\u001b[1;33m\u001b[0m\u001b[0m\n\u001b[1;32m----> 9\u001b[1;33m \u001b[0msns\u001b[0m\u001b[1;33m.\u001b[0m\u001b[0mpairplot\u001b[0m\u001b[1;33m(\u001b[0m\u001b[0mfunds_rate_raised2\u001b[0m\u001b[1;33m.\u001b[0m\u001b[0mastype\u001b[0m\u001b[1;33m(\u001b[0m\u001b[0mfloat\u001b[0m\u001b[1;33m)\u001b[0m\u001b[1;33m.\u001b[0m\u001b[0mcorr\u001b[0m\u001b[1;33m(\u001b[0m\u001b[1;33m)\u001b[0m\u001b[1;33m)\u001b[0m\u001b[1;33m\u001b[0m\u001b[1;33m\u001b[0m\u001b[0m\n\u001b[0m",
      "\u001b[1;31mNameError\u001b[0m: name 'funds_rate_raised2' is not defined"
     ]
    }
   ],
   "source": [
    "from scipy.stats import pearsonr\n",
    "# features['raised_pc'] = raised\n",
    "values = df_fundsVsIcoRating_only.astype(float).values\n",
    "# pearsonr(values,values)\n",
    "# values[:,0]\n",
    "\n",
    "#pearsonr(values[:,0],values[:,4])\n",
    "#dff = pd.DataFrame([(.2, .3), (.0, .6), (.6, .0), (.2, .1)], columns=['dogs', 'cats'])\n",
    "sns.pairplot(funds_rate_raised2.astype(float).corr())\n"
   ]
  },
  {
   "cell_type": "code",
   "execution_count": 690,
   "metadata": {},
   "outputs": [],
   "source": [
    "\n",
    "# ## Modeling \n",
    "\n",
    "\n",
    "# from sklearn.linear_model import LinearRegression\n",
    "# features = df_fundsVsIcoRating[['aggregate_rating','team_rating_ib','product_rating','vision_rating']]\n",
    "# # features.values\n",
    "# target = df_fundsVsIcoRating['raised_percentage_sc'].values\n",
    "# # target\n",
    "# reg_model = LinearRegression().fit(features, target)\n",
    "# # >>> reg.predict(np.array([[3, 5]]))\n",
    "# features.values[0]\n",
    "\n",
    "# funds_rate_raised = funds[['ico_name', 'raised_pc','aggregate_rating','team_rating_ib', 'team_rating_im', 'product_rating',\n",
    "#        'vision_rating', 'icobench_rating', 'icomarks_rating']]\n",
    "\n",
    "# funds_rate_raised['raised_pc'][113] = 100\n",
    "# #funds_rate_raised = funds_rate_raised['ico_name'].unique()\n",
    "# funds_rate_raised.sort_values(by=['raised_pc','aggregate_rating']).tail(50);\n",
    "# #funds_rate_raised = funds_rate_raised.drop(['ico_name'], axis = 1)\n",
    "# funds_rate_raised2 = funds_rate_raised[['raised_pc', 'aggregate_rating','team_rating_ib', 'team_rating_im', 'product_rating',\n",
    "#        'vision_rating', 'icobench_rating', 'icomarks_rating']]\n",
    "# funds_rate_raised2 = funds_rate_raised2.dropna();\n",
    "\n",
    "# for i in funds_rate_raised2.index:\n",
    "#     if funds_rate_raised2['raised_pc'][i] > 100:\n",
    "#         funds_rate_raised2['raised_pc'][i] = 100;\n",
    "\n",
    "# #sns.scatterplot(funds_rate_raised2.aggregate_rating,funds_rate_raised2.raised_pc);\n",
    "# funds_rate_raised2 = funds_rate_raised2.drop(['team_rating_im','icomarks_rating','icobench_rating'],axis=1)\n",
    "# funds_rate_raised2\n"
   ]
  },
  {
   "cell_type": "code",
   "execution_count": 689,
   "metadata": {
    "scrolled": true
   },
   "outputs": [],
   "source": []
  },
  {
   "cell_type": "code",
   "execution_count": null,
   "metadata": {},
   "outputs": [],
   "source": []
  },
  {
   "cell_type": "code",
   "execution_count": 254,
   "metadata": {},
   "outputs": [
    {
     "data": {
      "text/plain": [
       "array(['4.4', '4.8', '4.2', '4.1'], dtype=object)"
      ]
     },
     "execution_count": 254,
     "metadata": {},
     "output_type": "execute_result"
    }
   ],
   "source": [
    "## modeling\n",
    "from sklearn.linear_model import LinearRegression\n",
    "features = funds_rate_raised2[['aggregate_rating','team_rating_ib','product_rating','vision_rating']]\n",
    "# features.values\n",
    "target = funds_rate_raised2['raised_pc'].values\n",
    "# target\n",
    "reg_model = LinearRegression().fit(features, target)\n",
    "# >>> reg.predict(np.array([[3, 5]]))\n",
    "features.values[0]"
   ]
  },
  {
   "cell_type": "code",
   "execution_count": 259,
   "metadata": {},
   "outputs": [
    {
     "data": {
      "text/plain": [
       "array([  5.863779  ,  22.34678873, -14.88532544,  -6.25853643])"
      ]
     },
     "execution_count": 259,
     "metadata": {},
     "output_type": "execute_result"
    }
   ],
   "source": [
    "# reg_model.predict([features.values[2]])\n",
    "reg_model.coef_"
   ]
  },
  {
   "cell_type": "code",
   "execution_count": 19,
   "metadata": {
    "scrolled": true
   },
   "outputs": [
    {
     "data": {
      "text/plain": [
       "<AxesSubplot:>"
      ]
     },
     "execution_count": 19,
     "metadata": {},
     "output_type": "execute_result"
    },
    {
     "data": {
      "image/png": "[encoded data removed]",
      "text/plain": [
       "<Figure size 432x288 with 1 Axes>"
      ]
     },
     "metadata": {
      "needs_background": "light"
     },
     "output_type": "display_data"
    }
   ],
   "source": [
    "# feat_import = pd.Series(model_lr.coef_.flatten(), index=X_train.columns)\n",
    "# feat_import.nlargesregt(23).plot(kind='barh',figsize=(15,13))\n",
    "# plt.show()\n",
    "pd.Series(reg_model.coef_, index = features.columns).plot(kind='barh')"
   ]
  },
  {
   "cell_type": "code",
   "execution_count": 267,
   "metadata": {},
   "outputs": [
    {
     "data": {
      "text/plain": [
       "array([  5.71192393,  19.77667151, -12.96571882,  -5.62369031])"
      ]
     },
     "execution_count": 267,
     "metadata": {},
     "output_type": "execute_result"
    },
    {
     "data": {
      "image/png": "[encoded data removed]",
      "text/plain": [
       "<Figure size 432x288 with 1 Axes>"
      ]
     },
     "metadata": {
      "needs_background": "light"
     },
     "output_type": "display_data"
    }
   ],
   "source": [
    "from sklearn.linear_model import Ridge\n",
    "\n",
    "ridge_model = Ridge().fit(features, target)\n",
    "pd.Series(ridge_model.coef_, index = features.columns).plot(kind='barh')\n",
    "ridge_model.coef_"
   ]
  },
  {
   "cell_type": "code",
   "execution_count": 239,
   "metadata": {
    "scrolled": true
   },
   "outputs": [],
   "source": [
    "# social_raised = sub_df #funds_rate_raised['raised_pc']\n",
    "# social_raised = sub_df[['ico_name','telegram_status', 'social_rating','twitter_status','aggregate_rating']]\n",
    "# social_raised['raised_pc'] = funds_rate_raised['raised_pc']\n",
    "# social_raised ['bounty_status'] = df['bounty_status']\n",
    "# social_raised.sort_values(by=['twitter_status','raised_pc'])\n",
    "# social_raised.tail(50).sort_values(by=['twitter_status','raised_pc'])\n",
    "    \n",
    "    "
   ]
  },
  {
   "cell_type": "code",
   "execution_count": 322,
   "metadata": {
    "scrolled": false
   },
   "outputs": [
    {
     "data": {
      "text/plain": [
       "<seaborn.axisgrid.PairGrid at 0x2577d574dc0>"
      ]
     },
     "execution_count": 322,
     "metadata": {},
     "output_type": "execute_result"
    },
    {
     "data": {
      "image/png": "[encoded data removed]",
      "text/plain": [
       "<Figure size 900x900 with 30 Axes>"
      ]
     },
     "metadata": {
      "needs_background": "light"
     },
     "output_type": "display_data"
    }
   ],
   "source": [
    "from scipy.stats import pearsonr\n",
    "# features['raised_pc'] = raised\n",
    "values = funds_rate_raised2.astype(float).values\n",
    "# pearsonr(values,values)\n",
    "# values[:,0]\n",
    "\n",
    "#pearsonr(values[:,0],values[:,4])\n",
    "#dff = pd.DataFrame([(.2, .3), (.0, .6), (.6, .0), (.2, .1)], columns=['dogs', 'cats'])\n",
    "sns.pairplot(funds_rate_raised2.astype(float).corr())\n",
    "\n"
   ]
  },
  {
   "cell_type": "code",
   "execution_count": 176,
   "metadata": {},
   "outputs": [
    {
     "data": {
      "text/html": [
       "<div>\n",
       "<style scoped>\n",
       "    .dataframe tbody tr th:only-of-type {\n",
       "        vertical-align: middle;\n",
       "    }\n",
       "\n",
       "    .dataframe tbody tr th {\n",
       "        vertical-align: top;\n",
       "    }\n",
       "\n",
       "    .dataframe thead th {\n",
       "        text-align: right;\n",
       "    }\n",
       "</style>\n",
       "<table border=\"1\" class=\"dataframe\">\n",
       "  <thead>\n",
       "    <tr style=\"text-align: right;\">\n",
       "      <th></th>\n",
       "      <th>ico_name</th>\n",
       "      <th>ih_hardcap</th>\n",
       "      <th>softcap</th>\n",
       "      <th>ih_softcap</th>\n",
       "      <th>raised</th>\n",
       "      <th>ih_raised</th>\n",
       "    </tr>\n",
       "  </thead>\n",
       "  <tbody>\n",
       "    <tr>\n",
       "      <th>32</th>\n",
       "      <td>FTEC</td>\n",
       "      <td>26500</td>\n",
       "      <td>2000</td>\n",
       "      <td>2000</td>\n",
       "      <td>995000</td>\n",
       "      <td>7</td>\n",
       "    </tr>\n",
       "    <tr>\n",
       "      <th>34</th>\n",
       "      <td>Mozo</td>\n",
       "      <td>-</td>\n",
       "      <td>-</td>\n",
       "      <td>4600000000</td>\n",
       "      <td>NaN</td>\n",
       "      <td>80</td>\n",
       "    </tr>\n",
       "  </tbody>\n",
       "</table>\n",
       "</div>"
      ],
      "text/plain": [
       "   ico_name ih_hardcap softcap   ih_softcap   raised ih_raised\n",
       "32     FTEC      26500   2000         2000   995000          7\n",
       "34     Mozo          -       -  4600000000       NaN        80"
      ]
     },
     "execution_count": 176,
     "metadata": {},
     "output_type": "execute_result"
    }
   ],
   "source": [
    "funds[['icoy _name','ih_hardcap','softcap','ih_softcap','raised','ih_raised']][19:21]"
   ]
  }
 ],
 "metadata": {
  "kernelspec": {
   "display_name": "Python 3",
   "language": "python",
   "name": "python3"
  },
  "language_info": {
   "codemirror_mode": {
    "name": "ipython",
    "version": 3
   },
   "file_extension": ".py",
   "mimetype": "text/x-python",
   "name": "python",
   "nbconvert_exporter": "python",
   "pygments_lexer": "ipython3",
   "version": "3.8.5"
  }
 },
 "nbformat": 4,
 "nbformat_minor": 4
}
