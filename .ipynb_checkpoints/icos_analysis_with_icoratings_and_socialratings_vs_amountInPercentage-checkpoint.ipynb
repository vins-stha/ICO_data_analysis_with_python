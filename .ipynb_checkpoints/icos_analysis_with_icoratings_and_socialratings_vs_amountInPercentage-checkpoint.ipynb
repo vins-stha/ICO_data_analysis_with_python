{
 "cells": [
  {
   "cell_type": "code",
   "execution_count": 603,
   "metadata": {},
   "outputs": [],
   "source": [
    "import pandas as pd\n",
    "import matplotlib.pyplot as plt\n",
    "import seaborn as sns\n",
    "import numpy as np\n",
    "import sklearn as sk   "
   ]
  },
  {
   "cell_type": "code",
   "execution_count": 604,
   "metadata": {},
   "outputs": [],
   "source": [
    "import warnings\n",
    "warnings.filterwarnings('ignore')"
   ]
  },
  {
   "cell_type": "code",
   "execution_count": 689,
   "metadata": {},
   "outputs": [],
   "source": [
    "df = pd.read_csv(\"all_ico_data.csv\")\n",
    "# df = pd.read_csv(\"icos2017.csv\")\n",
    "\n",
    "## Cleaning data\n",
    "    ## 1. remove \",\" from financial datas \n",
    "    ## 2. convert rating columns to type float\n",
    "\n",
    "\n",
    "for i in df.index:\n",
    "    try:\n",
    "        if (type(df['hardcap'][i]) == str):\n",
    "            df['hardcap'][i] = df['hardcap'][i].replace(\",\",\"\")\n",
    "                          \n",
    "        if type(df['ih_raised'][i]) == str:\n",
    "            df['ih_raised'][i] = df['ih_raised'][i].replace(\",\",\"\")                      \n",
    "            \n",
    "        if (type(df['softcap'][i]) == str):\n",
    "            df['softcap'][i] = df['softcap'][i].replace(\",\",\"\")\n",
    "     \n",
    "    except Exception as e:\n",
    "        pass\n",
    "    \n",
    "## fill na/- values present in aggregate with corresponding values of icobench or icomarks\n",
    "\n",
    "for index in df.index:\n",
    "    a_r =  df['aggregate_rating'][index]\n",
    "    im_r =  df['icomarks_rating'][index]\n",
    "    ib_r =  df['icobench_rating'][index]\n",
    "    if (a_r == '-' and (im_r != '-' or ib_r != '-')):\n",
    "        try:\n",
    "            if im_r != '-':\n",
    "                df['aggregate_rating'][index] = float(im_r)\n",
    "            else:\n",
    "                 df['aggregate_rating'][index] = float(ib_r)\n",
    "                        \n",
    "        except Exception as e:\n",
    "            print(e)\n",
    "\n",
    "## Create a subset dataframe out of main df excluding relavtively less important columns/or with most NaN values\n",
    "sub_df = df.drop(['ticker', 'platform', 'profile_rating', 'date_ended','country','bounty_status','icobazaar_rating'], axis=1) \n"
   ]
  },
  {
   "cell_type": "code",
   "execution_count": 589,
   "metadata": {},
   "outputs": [],
   "source": []
  },
  {
   "cell_type": "code",
   "execution_count": 700,
   "metadata": {},
   "outputs": [
    {
     "data": {
      "text/plain": [
       "Index(['ico_name', 'hardcap', 'softcap', 'raised', 'ih_hardcap', 'ih_softcap',\n",
       "       'ih_raised', 'team_rating_ib', 'team_rating_im', 'product_rating',\n",
       "       'vision_rating', 'icobench_rating', 'icomarks_rating',\n",
       "       'aggregate_rating'],\n",
       "      dtype='object')"
      ]
     },
     "execution_count": 700,
     "metadata": {},
     "output_type": "execute_result"
    }
   ],
   "source": [
    "## Drop all the rows whose column values from aggreagate rating with NaN and other least relevant columns\n",
    "\n",
    "sub_df = sub_df.dropna(subset=['ih_raised','softcap','ih_softcap','aggregate_rating'])\n",
    "\n",
    "## dataframe of only ratings columns being considered \n",
    "\n",
    "# df_ratings = sub_df[['icobench_rating', 'icomarks_rating','aggregate_rating']]\n",
    "\n",
    "## 1. Create subset dataframe with only caps and rating columns to determine correlation among the caps and the ratings\n",
    "## 2. Create subset dataframe with only caps and social activities to determine correlation among the caps and the social activities\n",
    "\n",
    "df_fundsVsIcoRating = sub_df[['ico_name', 'hardcap','softcap', 'raised',\n",
    "       'ih_hardcap', 'ih_softcap','ih_raised','team_rating_ib', \n",
    "        'team_rating_im', 'product_rating', 'vision_rating','icobench_rating', 'icomarks_rating', 'aggregate_rating']]\n",
    "\n",
    "df_fundsVsIcoRating.drop_duplicates(subset=['ico_name'], keep='first', inplace=True, ignore_index=False);\n",
    "df_fundsVsIcoRating.columns"
   ]
  },
  {
   "cell_type": "code",
   "execution_count": 611,
   "metadata": {},
   "outputs": [],
   "source": []
  },
  {
   "cell_type": "code",
   "execution_count": 704,
   "metadata": {},
   "outputs": [
    {
     "data": {
      "text/plain": [
       "Index(['ico_name', 'hardcap', 'softcap', 'raised', 'ih_hardcap', 'ih_softcap',\n",
       "       'ih_raised', 'team_rating_ib', 'team_rating_im', 'product_rating',\n",
       "       'vision_rating', 'icobench_rating', 'icomarks_rating',\n",
       "       'aggregate_rating', 'raised_percentage_sc'],\n",
       "      dtype='object')"
      ]
     },
     "execution_count": 704,
     "metadata": {},
     "output_type": "execute_result"
    }
   ],
   "source": [
    "\n",
    "### Add column with listing of amount raised in % based on softcap of the ico\n",
    "\n",
    "amount = raised_sc_pc = percent_raised = 0\n",
    "raised_pc =[]\n",
    "funds = df_fundsVsIcoRating\n",
    "count = 0\n",
    "\n",
    "for i in df_fundsVsIcoRating.index:    \n",
    "    try:\n",
    "        hardcap = float(df_fundsVsIcoRating['ih_hardcap'][i])\n",
    "        raised_percentage_hc = float(df_fundsVsIcoRating['ih_raised'][i])   \n",
    "        softcap = float(df_fundsVsIcoRating['ih_softcap'][i])\n",
    "    \n",
    "        try:\n",
    "            amount_raised = raised_percentage_hc * hardcap \n",
    "            raised_percentage_sc = round((amount_raised / softcap),2)\n",
    "            count = count + 1\n",
    "\n",
    "        except Exception as e:\n",
    "            print(\"EXCEPTION\",e)\n",
    "            pass\n",
    "    except Exception as e:\n",
    "#         print(e, funds['ico_name'][i],funds['raised'][i],funds['ih_raised'][i])\n",
    "        print(e, df_fundsVsIcoRating['ico_name'][i],df_fundsVsIcoRating['raised'][i],df_fundsVsIcoRating['ih_raised'][i])                  \n",
    "\n",
    "            \n",
    "    if raised_percentage_sc >= 100:\n",
    "        raised_percentage_sc = 100   \n",
    "    df_fundsVsIcoRating['raised_percentage_sc'][i]= raised_percentage_sc;\n",
    "\n",
    "                      \n",
    "df_fundsVsIcoRating.columns"
   ]
  },
  {
   "cell_type": "code",
   "execution_count": null,
   "metadata": {},
   "outputs": [],
   "source": []
  },
  {
   "cell_type": "code",
   "execution_count": 705,
   "metadata": {
    "scrolled": true
   },
   "outputs": [
    {
     "name": "stdout",
     "output_type": "stream",
     "text": [
      "\n",
      "\n"
     ]
    },
    {
     "data": {
      "image/png": "[encoded data removed]",
      "text/plain": [
       "<Figure size 864x432 with 1 Axes>"
      ]
     },
     "metadata": {
      "needs_background": "light"
     },
     "output_type": "display_data"
    },
    {
     "data": {
      "image/png": "[encoded data removed]",
      "text/plain": [
       "<Figure size 432x432 with 1 Axes>"
      ]
     },
     "metadata": {
      "needs_background": "light"
     },
     "output_type": "display_data"
    },
    {
     "name": "stdout",
     "output_type": "stream",
     "text": [
      "\n",
      "\n"
     ]
    },
    {
     "data": {
      "image/png": "[encoded data removed]",
      "text/plain": [
       "<Figure size 432x432 with 1 Axes>"
      ]
     },
     "metadata": {
      "needs_background": "light"
     },
     "output_type": "display_data"
    },
    {
     "name": "stdout",
     "output_type": "stream",
     "text": [
      "\n",
      "\n"
     ]
    },
    {
     "data": {
      "image/png": "[encoded data removed]",
      "text/plain": [
       "<Figure size 432x432 with 1 Axes>"
      ]
     },
     "metadata": {
      "needs_background": "light"
     },
     "output_type": "display_data"
    },
    {
     "name": "stdout",
     "output_type": "stream",
     "text": [
      "\n",
      "\n"
     ]
    },
    {
     "data": {
      "text/plain": [
       "<Figure size 432x432 with 0 Axes>"
      ]
     },
     "metadata": {},
     "output_type": "display_data"
    },
    {
     "data": {
      "image/png": "[encoded data removed]",
      "text/plain": [
       "<Figure size 864x432 with 1 Axes>"
      ]
     },
     "metadata": {
      "needs_background": "light"
     },
     "output_type": "display_data"
    }
   ],
   "source": [
    "## Drop off capital columns and other other repetitive features\n",
    "\n",
    "df_fundsVsIcoRating = df_fundsVsIcoRating[['raised_percentage_sc','team_rating_ib','product_rating',\n",
    "       'vision_rating', 'aggregate_rating']]\n",
    "\n",
    "df_fundsVsIcoRating = df_fundsVsIcoRating.dropna()\n",
    "\n",
    "## Scatter plots \n",
    "\n",
    "cols = features = df_fundsVsIcoRating.drop(['raised_percentage_sc'],axis=1)\n",
    "index = target = df_fundsVsIcoRating['raised_percentage_sc']\n",
    "\n",
    "## 1. All scatterplots in one \n",
    "\n",
    "plt.figure(figsize=(12,6));\n",
    "for col in features.columns:\n",
    "    col_index= features.columns.get_loc(col)\n",
    "    if col == \"aggregate_rating\":      \n",
    "        features[col] = features[col].astype(float)\n",
    "        features = features.sort_values(by='aggregate_rating',ascending = True) \n",
    "\n",
    "\n",
    "    sns.scatterplot(features.iloc[:,col_index], target, label=col);\n",
    "#\n",
    "## 2. Individual Scatter plot for each indepedent variables against dependent variable\n",
    " \n",
    "for col in features.columns:\n",
    "    figure = plt.figure(figsize=(6,6));    \n",
    "    \n",
    "    if col == \"aggregate_rating\":\n",
    "        plt.figure(figsize=(12,6));\n",
    "        features = features.sort_values(by='aggregate_rating',ascending = True)  \n",
    "    \n",
    "    ax = plt.gca();\n",
    "    ax.scatter(features[col],target,label=col);\n",
    "    ax.set_xlabel(col)\n",
    "    ax.set_ylabel(\"raised_percentage_sc\")\n",
    "\n",
    "    ax.set_title(\"{} vs {}\".format(col, 'raised_percentage_sc'));\n",
    "    print(\"\\n\") \n",
    "\n",
    "    plt.legend();\n",
    "    plt.show();"
   ]
  },
  {
   "cell_type": "code",
   "execution_count": null,
   "metadata": {},
   "outputs": [],
   "source": []
  },
  {
   "cell_type": "code",
   "execution_count": 706,
   "metadata": {
    "scrolled": true
   },
   "outputs": [
    {
     "data": {
      "text/plain": [
       "<seaborn.axisgrid.PairGrid at 0x242253b8>"
      ]
     },
     "execution_count": 706,
     "metadata": {},
     "output_type": "execute_result"
    },
    {
     "data": {
      "image/png": "[encoded data removed]",
      "text/plain": [
       "<Figure size 900x900 with 30 Axes>"
      ]
     },
     "metadata": {
      "needs_background": "light"
     },
     "output_type": "display_data"
    }
   ],
   "source": [
    "from scipy.stats import pearsonr\n",
    "\n",
    "values = df_fundsVsIcoRating.astype(float).values\n",
    "\n",
    "sns.pairplot(df_fundsVsIcoRating.astype(float).corr())\n"
   ]
  },
  {
   "cell_type": "code",
   "execution_count": 621,
   "metadata": {},
   "outputs": [],
   "source": []
  },
  {
   "cell_type": "code",
   "execution_count": 707,
   "metadata": {},
   "outputs": [
    {
     "name": "stdout",
     "output_type": "stream",
     "text": [
      "linear coef [raised_percentage_sc vs aggregate_rating] =  [[8.11969331]] \n",
      "linear coef [all_ratings vs aggregate_rating] = [ 2.17240685 -4.66535854 -1.66828359  0.34746224]\n"
     ]
    },
    {
     "data": {
      "text/html": [
       "<div>\n",
       "<style scoped>\n",
       "    .dataframe tbody tr th:only-of-type {\n",
       "        vertical-align: middle;\n",
       "    }\n",
       "\n",
       "    .dataframe tbody tr th {\n",
       "        vertical-align: top;\n",
       "    }\n",
       "\n",
       "    .dataframe thead th {\n",
       "        text-align: right;\n",
       "    }\n",
       "</style>\n",
       "<table border=\"1\" class=\"dataframe\">\n",
       "  <thead>\n",
       "    <tr style=\"text-align: right;\">\n",
       "      <th></th>\n",
       "      <th>corr</th>\n",
       "      <th>p_value</th>\n",
       "    </tr>\n",
       "  </thead>\n",
       "  <tbody>\n",
       "    <tr>\n",
       "      <th>raised_percentage_sc</th>\n",
       "      <td>1.000</td>\n",
       "      <td>0.000</td>\n",
       "    </tr>\n",
       "    <tr>\n",
       "      <th>team_rating_ib</th>\n",
       "      <td>0.098</td>\n",
       "      <td>0.103</td>\n",
       "    </tr>\n",
       "    <tr>\n",
       "      <th>product_rating</th>\n",
       "      <td>0.071</td>\n",
       "      <td>0.242</td>\n",
       "    </tr>\n",
       "    <tr>\n",
       "      <th>vision_rating</th>\n",
       "      <td>0.099</td>\n",
       "      <td>0.100</td>\n",
       "    </tr>\n",
       "    <tr>\n",
       "      <th>aggregate_rating</th>\n",
       "      <td>0.141</td>\n",
       "      <td>0.019</td>\n",
       "    </tr>\n",
       "  </tbody>\n",
       "</table>\n",
       "</div>"
      ],
      "text/plain": [
       "                       corr  p_value\n",
       "raised_percentage_sc  1.000    0.000\n",
       "team_rating_ib        0.098    0.103\n",
       "product_rating        0.071    0.242\n",
       "vision_rating         0.099    0.100\n",
       "aggregate_rating      0.141    0.019"
      ]
     },
     "execution_count": 707,
     "metadata": {},
     "output_type": "execute_result"
    }
   ],
   "source": [
    "\n",
    "from sklearn.linear_model import LinearRegression\n",
    "from sklearn.model_selection import train_test_split\n",
    "\n",
    "### Training \n",
    "\n",
    "for col in df_fundsVsIcoRating.columns:\n",
    "    df_fundsVsIcoRating[col] = df_fundsVsIcoRating[col].astype(float)\n",
    "    \n",
    "train_X, test_x, train_Y,test_y = train_test_split(features,target, test_size = 0.2)\n",
    "\n",
    "## 3.1. Linear Regression with all features against 'raised_percentage_sc'\n",
    "\n",
    "reg = LinearRegression().fit(train_X,train_Y)\n",
    "lin_reg_all_features = LinearRegression().fit(features, target)\n",
    "\n",
    "## linear regression of individual feature vs 'aggregate_rating'\n",
    "\n",
    "Y1 = df_fundsVsIcoRating.raised_percentage_sc.values.reshape(-1,1)\n",
    "X1 = df_fundsVsIcoRating.aggregate_rating.values.reshape(-1,1)\n",
    "    \n",
    "lin_reg = LinearRegression().fit(X1,Y1)\n",
    " \n",
    "## correlation table for each column with corresponding p-value\n",
    "\n",
    "ico_rating_vs_amount_corr = pd.DataFrame(columns=['corr', 'p_value'])\n",
    "for col in df_fundsVsIcoRating.columns:\n",
    "    corr,p_value = stats.pearsonr(df_fundsVsIcoRating[col],df_fundsVsIcoRating['raised_percentage_sc'])\n",
    "    ico_rating_vs_amount_corr.loc[col] =[round(corr,3),round(p_value,3)]\n",
    "\n",
    "\n",
    "print(\"linear coef [raised_percentage_sc vs aggregate_rating] = \",lin_reg.coef_,\n",
    "       \"\\nlinear coef [all_ratings vs aggregate_rating] = {}\".format(lin_reg_all_features.coef_))\n",
    "social_vs_amount_corr "
   ]
  },
  {
   "cell_type": "code",
   "execution_count": 711,
   "metadata": {},
   "outputs": [
    {
     "name": "stdout",
     "output_type": "stream",
     "text": [
      "ridge regression coef [features ratings vs raised_percentage] = [ 2.07488318 -4.53786942 -1.67778865  0.33166765]\n",
      "ridge regression coef [training data] = [-2.46737122 -2.72931809  0.31626854 -0.44929814]\n"
     ]
    }
   ],
   "source": [
    "from sklearn.linear_model import Ridge\n",
    "\n",
    "ridge_model = Ridge().fit(features, target)\n",
    "ridge = Ridge(alpha=50, max_iter=100, tol=0.1)\n",
    "\n",
    "ridge.fit(train_X, train_Y)\n",
    "\n",
    "# print(ridge.score(test_x, test_y),ridge.score(train_X, train_Y))\n",
    "print(\"ridge regression coef [features ratings vs raised_percentage] =\",ridge_model.coef_)\n",
    "print(\"ridge regression coef [training data] =\",ridge.coef_)\n"
   ]
  },
  {
   "cell_type": "code",
   "execution_count": 714,
   "metadata": {},
   "outputs": [
    {
     "name": "stdout",
     "output_type": "stream",
     "text": [
      "[-0.         -2.59256284 -0.23281524 -0.        ]\n",
      "Lasso regression coef [features ratings vs raised_percentage] = [-0.         -2.59256284 -0.23281524 -0.        ]\n",
      "Lasso regression coef [training data] = [-2.58907928 -2.30982552 -0.         -0.        ]\n"
     ]
    }
   ],
   "source": [
    " ## 2. Lasso Regression\n",
    "    \n",
    "from sklearn import linear_model\n",
    "lasso_reg = linear_model.Lasso(alpha= 0.8, max_iter=100, tol=0.1).fit(features,target)\n",
    "lasso_train =linear_model.Lasso(alpha= 0.8, max_iter=100, tol=0.1).fit(train_X,train_Y)  \n",
    "\n",
    "test = lasso_reg.score(test_x,test_y)\n",
    "train = lasso_reg.score(train_X,train_Y)\n",
    "print(\"Lasso regression coef [features ratings vs raised_percentage] =\",lasso_reg.coef_)\n",
    "print(\"Lasso regression coef [training data] =\",lasso_train.coef_)\n",
    "\n"
   ]
  },
  {
   "cell_type": "code",
   "execution_count": null,
   "metadata": {},
   "outputs": [],
   "source": []
  },
  {
   "cell_type": "code",
   "execution_count": 647,
   "metadata": {},
   "outputs": [],
   "source": [
    "### Analysing amount raised against social activities in twitter, telegram and other social networks "
   ]
  },
  {
   "cell_type": "code",
   "execution_count": 718,
   "metadata": {
    "scrolled": true
   },
   "outputs": [
    {
     "data": {
      "text/html": [
       "<div>\n",
       "<style scoped>\n",
       "    .dataframe tbody tr th:only-of-type {\n",
       "        vertical-align: middle;\n",
       "    }\n",
       "\n",
       "    .dataframe tbody tr th {\n",
       "        vertical-align: top;\n",
       "    }\n",
       "\n",
       "    .dataframe thead th {\n",
       "        text-align: right;\n",
       "    }\n",
       "</style>\n",
       "<table border=\"1\" class=\"dataframe\">\n",
       "  <thead>\n",
       "    <tr style=\"text-align: right;\">\n",
       "      <th></th>\n",
       "      <th>ico_name</th>\n",
       "      <th>hardcap</th>\n",
       "      <th>softcap</th>\n",
       "      <th>raised</th>\n",
       "      <th>ih_hardcap</th>\n",
       "      <th>ih_softcap</th>\n",
       "      <th>ih_raised</th>\n",
       "      <th>facebook_status</th>\n",
       "      <th>twitter_status</th>\n",
       "      <th>telegram_status</th>\n",
       "      <th>social_rating</th>\n",
       "      <th>raised_percentage_sc</th>\n",
       "    </tr>\n",
       "  </thead>\n",
       "  <tbody>\n",
       "    <tr>\n",
       "      <th>0</th>\n",
       "      <td>Customizable Basic Income</td>\n",
       "      <td>NaN</td>\n",
       "      <td>NaN</td>\n",
       "      <td>NaN</td>\n",
       "      <td>2000000000</td>\n",
       "      <td>16000000.00</td>\n",
       "      <td>0.00</td>\n",
       "      <td>1</td>\n",
       "      <td>1</td>\n",
       "      <td>1</td>\n",
       "      <td>NaN</td>\n",
       "      <td>0.0</td>\n",
       "    </tr>\n",
       "    <tr>\n",
       "      <th>1</th>\n",
       "      <td>Hope token</td>\n",
       "      <td>NaN</td>\n",
       "      <td>NaN</td>\n",
       "      <td>NaN</td>\n",
       "      <td>200000000000</td>\n",
       "      <td>1000000000</td>\n",
       "      <td>0.00</td>\n",
       "      <td>1</td>\n",
       "      <td>1</td>\n",
       "      <td>1</td>\n",
       "      <td>NaN</td>\n",
       "      <td>0.0</td>\n",
       "    </tr>\n",
       "    <tr>\n",
       "      <th>2</th>\n",
       "      <td>Coin</td>\n",
       "      <td>NaN</td>\n",
       "      <td>NaN</td>\n",
       "      <td>NaN</td>\n",
       "      <td>1000000</td>\n",
       "      <td>600000.00</td>\n",
       "      <td>0.66</td>\n",
       "      <td>1</td>\n",
       "      <td>1</td>\n",
       "      <td>1</td>\n",
       "      <td>1.3</td>\n",
       "      <td>1.1</td>\n",
       "    </tr>\n",
       "    <tr>\n",
       "      <th>3</th>\n",
       "      <td>OFID</td>\n",
       "      <td>20000000</td>\n",
       "      <td>NaN</td>\n",
       "      <td>Unknown</td>\n",
       "      <td>2000000000</td>\n",
       "      <td>2000000000</td>\n",
       "      <td>0.00</td>\n",
       "      <td>1</td>\n",
       "      <td>1</td>\n",
       "      <td>1</td>\n",
       "      <td>1</td>\n",
       "      <td>0.0</td>\n",
       "    </tr>\n",
       "    <tr>\n",
       "      <th>4</th>\n",
       "      <td>Acuitty</td>\n",
       "      <td>NaN</td>\n",
       "      <td>NaN</td>\n",
       "      <td>NaN</td>\n",
       "      <td>21000000</td>\n",
       "      <td>21000000.00\"</td>\n",
       "      <td>0.00</td>\n",
       "      <td>1</td>\n",
       "      <td>1</td>\n",
       "      <td>1</td>\n",
       "      <td>NaN</td>\n",
       "      <td>0.0</td>\n",
       "    </tr>\n",
       "  </tbody>\n",
       "</table>\n",
       "</div>"
      ],
      "text/plain": [
       "                    ico_name   hardcap softcap   raised    ih_hardcap  \\\n",
       "0  Customizable Basic Income       NaN     NaN      NaN    2000000000   \n",
       "1                 Hope token       NaN     NaN      NaN  200000000000   \n",
       "2                       Coin       NaN     NaN      NaN       1000000   \n",
       "3                       OFID  20000000     NaN  Unknown    2000000000   \n",
       "4                    Acuitty       NaN     NaN      NaN      21000000   \n",
       "\n",
       "     ih_softcap  ih_raised facebook_status twitter_status telegram_status  \\\n",
       "0   16000000.00       0.00               1              1               1   \n",
       "1    1000000000       0.00               1              1               1   \n",
       "2     600000.00       0.66               1              1               1   \n",
       "3    2000000000       0.00               1              1               1   \n",
       "4  21000000.00\"       0.00               1              1               1   \n",
       "\n",
       "  social_rating  raised_percentage_sc  \n",
       "0           NaN                   0.0  \n",
       "1           NaN                   0.0  \n",
       "2           1.3                   1.1  \n",
       "3             1                   0.0  \n",
       "4           NaN                   0.0  "
      ]
     },
     "execution_count": 718,
     "metadata": {},
     "output_type": "execute_result"
    }
   ],
   "source": [
    "df2 = df[['ico_name', 'hardcap','softcap', 'raised',\n",
    "       'ih_hardcap', 'ih_softcap','ih_raised','facebook_status','twitter_status', 'telegram_status', 'social_rating']]\n",
    "df2.drop_duplicates(subset=['ico_name'], keep='first', inplace=True, ignore_index=False);\n",
    "\n",
    "amounts = []\n",
    "raised_percentage_sc = 0\n",
    "\n",
    "## Adding new column with amount raised in percentage wrt softcap\n",
    "for i in df2.index:\n",
    "\n",
    "    try:\n",
    "        hardcap = float(df['ih_hardcap'][i])\n",
    "        raised_percentage_hc = float(df['ih_raised'][i])   \n",
    "        softcap = float(df['ih_softcap'][i])\n",
    "    \n",
    "        try:\n",
    "            amount_raised = raised_percentage_hc * hardcap \n",
    "            raised_percentage_sc = round((amount_raised / softcap),1)\n",
    "#             count = count + 1\n",
    "            if raised_percentage_sc >= 100:\n",
    "              raised_percentage_sc = 100 \n",
    "#              print(raised_percentage_sc)\n",
    "            amounts.append(raised_percentage_sc)         \n",
    "        except Exception as e:\n",
    "            print(\"EXCEPTION\",e)            \n",
    "            \n",
    "    except Exception as e:\n",
    "#         print(e)\n",
    "        amounts.append(raised_percentage_sc)\n",
    "        pass\n",
    "df2['raised_percentage_sc']= amounts          \n",
    "df2.head()"
   ]
  },
  {
   "cell_type": "code",
   "execution_count": null,
   "metadata": {},
   "outputs": [],
   "source": []
  },
  {
   "cell_type": "code",
   "execution_count": 719,
   "metadata": {},
   "outputs": [],
   "source": [
    "### Change data types for social rating columns to float from string\n",
    "\n",
    "social_cols = ['telegram_status', 'facebook_status','twitter_status','social_rating']\n",
    "for col in df2.columns:\n",
    "    if col in social_cols:       \n",
    "        for index in df2.index:\n",
    "            value = df2[col][index]\n",
    "            if value == '-' :#or value == \"Benchy\":\n",
    "                df2[col][index] = df2[col][index].replace('-','')\n",
    "            if value == \"Benchy\":               \n",
    "                df2[col][index] = df2[col][index].replace(\"Benchy\",\"\")\n",
    "            try:\n",
    "                df2[col][index] = float(df2[col][index])                    \n",
    "            except Exception as e:\n",
    "                pass\n",
    "        df2 = df2.replace(r'^\\s*$', np.nan, regex=True)\n",
    "        df2[col] = df2[col].astype(float)\n"
   ]
  },
  {
   "cell_type": "code",
   "execution_count": 720,
   "metadata": {
    "scrolled": false
   },
   "outputs": [
    {
     "name": "stdout",
     "output_type": "stream",
     "text": [
      "Linear Regression coef = [[5.97286715]], Ridge regression coef = [[5.9654539]], Lasso coef = [5.52947308]\n"
     ]
    },
    {
     "data": {
      "text/html": [
       "<div>\n",
       "<style scoped>\n",
       "    .dataframe tbody tr th:only-of-type {\n",
       "        vertical-align: middle;\n",
       "    }\n",
       "\n",
       "    .dataframe tbody tr th {\n",
       "        vertical-align: top;\n",
       "    }\n",
       "\n",
       "    .dataframe thead th {\n",
       "        text-align: right;\n",
       "    }\n",
       "</style>\n",
       "<table border=\"1\" class=\"dataframe\">\n",
       "  <thead>\n",
       "    <tr style=\"text-align: right;\">\n",
       "      <th></th>\n",
       "      <th>facebook_status</th>\n",
       "      <th>raised_percentage_sc</th>\n",
       "    </tr>\n",
       "  </thead>\n",
       "  <tbody>\n",
       "    <tr>\n",
       "      <th>facebook_status</th>\n",
       "      <td>1.000000</td>\n",
       "      <td>0.204943</td>\n",
       "    </tr>\n",
       "    <tr>\n",
       "      <th>raised_percentage_sc</th>\n",
       "      <td>0.204943</td>\n",
       "      <td>1.000000</td>\n",
       "    </tr>\n",
       "  </tbody>\n",
       "</table>\n",
       "</div>"
      ],
      "text/plain": [
       "                      facebook_status  raised_percentage_sc\n",
       "facebook_status              1.000000              0.204943\n",
       "raised_percentage_sc         0.204943              1.000000"
      ]
     },
     "execution_count": 720,
     "metadata": {},
     "output_type": "execute_result"
    },
    {
     "data": {
      "image/png": "[encoded data removed]",
      "text/plain": [
       "<Figure size 432x288 with 1 Axes>"
      ]
     },
     "metadata": {
      "needs_background": "light"
     },
     "output_type": "display_data"
    }
   ],
   "source": [
    "### Subset of dataframe 'df2' with only two columns for analysis of individual correlation with amount raised \n",
    "\n",
    "    ## 1. Soical ('facebook') Vs Amount raised \n",
    "\n",
    "df2_social_fb = df2[['ico_name','facebook_status','raised_percentage_sc']]\n",
    "df2_social_fb = df2_social_fb.dropna()\n",
    "\n",
    "sns.scatterplot(df2.facebook_status,df2.raised_percentage_sc)\n",
    "sns.barplot('facebook_status','raised_percentage_sc', data=df2_social_fb)\n",
    "\n",
    "X = df2_social_fb.facebook_status.values.reshape(-1,1)\n",
    "Y = df2_social_fb.raised_percentage_sc.values.reshape(-1,1)\n",
    "## Linear Regression \n",
    "social_lin_reg = LinearRegression().fit(X,Y)\n",
    "\n",
    "\n",
    "## Ridge Regression \n",
    "ridge_model = Ridge().fit(X,Y)\n",
    "ridge = Ridge(alpha=50, max_iter=100, tol=0.1)\n",
    "\n",
    "## Lassoo \n",
    "lasso_reg = linear_model.Lasso(alpha= 0.8, max_iter=100, tol=0.1)\n",
    "lasso_reg.fit(X,Y)  \n",
    "\n",
    "print(\"Linear Regression coef = {}, Ridge regression coef = {}, Lasso coef = {}\".format(social_lin_reg.coef_,ridge_model.coef_, lasso_reg.coef_))\n",
    "df2_social_fb.corr()\n"
   ]
  },
  {
   "cell_type": "code",
   "execution_count": null,
   "metadata": {},
   "outputs": [],
   "source": []
  },
  {
   "cell_type": "code",
   "execution_count": 721,
   "metadata": {},
   "outputs": [
    {
     "name": "stdout",
     "output_type": "stream",
     "text": [
      "Linear Regression coef = [[5.71253376]], Ridge regression coef = [[5.70536321]], Lasso coef = [5.26712069]\n"
     ]
    },
    {
     "data": {
      "image/png": "[encoded data removed]",
      "text/plain": [
       "<Figure size 432x288 with 1 Axes>"
      ]
     },
     "metadata": {
      "needs_background": "light"
     },
     "output_type": "display_data"
    }
   ],
   "source": [
    "\n",
    " ## 2. Twitter ratings Vs Amount raised \n",
    "df2_twitter = df2[['twitter_status','raised_percentage_sc']]\n",
    "\n",
    "df2_twitter = df2_twitter.dropna()\n",
    "\n",
    "sns.scatterplot(df2_twitter.twitter_status,df2_twitter.raised_percentage_sc)\n",
    "sns.barplot('twitter_status','raised_percentage_sc', data=df2_twitter)\n",
    "\n",
    "X = df2_twitter.twitter_status.values.reshape(-1,1)\n",
    "Y = df2_twitter.raised_percentage_sc.values.reshape(-1,1)\n",
    "## Linear Regression \n",
    "twitter_lin_reg = LinearRegression().fit(X,Y)\n",
    "\n",
    "\n",
    "## Ridge Regression \n",
    "ridge_model = Ridge().fit(X,Y)\n",
    "ridge = Ridge(alpha=50, max_iter=100, tol=0.1)\n",
    "\n",
    "## Lassoo \n",
    "lasso_reg = linear_model.Lasso(alpha= 0.8, max_iter=100, tol=0.1)\n",
    "lasso_reg.fit(X,Y)  \n",
    "\n",
    "print(\"Linear Regression coef = {}, Ridge regression coef = {}, Lasso coef = {}\".format(twitter_lin_reg.coef_,ridge_model.coef_, lasso_reg.coef_))\n"
   ]
  },
  {
   "cell_type": "code",
   "execution_count": 463,
   "metadata": {
    "scrolled": false
   },
   "outputs": [
    {
     "name": "stdout",
     "output_type": "stream",
     "text": [
      "Linear Regression coef = [[10.54102338]], Ridge regression coef = [[10.48542482]], Lasso coef = [10.0319871]\n"
     ]
    },
    {
     "data": {
      "text/html": [
       "<div>\n",
       "<style scoped>\n",
       "    .dataframe tbody tr th:only-of-type {\n",
       "        vertical-align: middle;\n",
       "    }\n",
       "\n",
       "    .dataframe tbody tr th {\n",
       "        vertical-align: top;\n",
       "    }\n",
       "\n",
       "    .dataframe thead th {\n",
       "        text-align: right;\n",
       "    }\n",
       "</style>\n",
       "<table border=\"1\" class=\"dataframe\">\n",
       "  <thead>\n",
       "    <tr style=\"text-align: right;\">\n",
       "      <th></th>\n",
       "      <th>telegram_status</th>\n",
       "      <th>raised_percentage_sc</th>\n",
       "    </tr>\n",
       "  </thead>\n",
       "  <tbody>\n",
       "    <tr>\n",
       "      <th>telegram_status</th>\n",
       "      <td>1.000000</td>\n",
       "      <td>0.301203</td>\n",
       "    </tr>\n",
       "    <tr>\n",
       "      <th>raised_percentage_sc</th>\n",
       "      <td>0.301203</td>\n",
       "      <td>1.000000</td>\n",
       "    </tr>\n",
       "  </tbody>\n",
       "</table>\n",
       "</div>"
      ],
      "text/plain": [
       "                      telegram_status  raised_percentage_sc\n",
       "telegram_status              1.000000              0.301203\n",
       "raised_percentage_sc         0.301203              1.000000"
      ]
     },
     "execution_count": 463,
     "metadata": {},
     "output_type": "execute_result"
    },
    {
     "data": {
      "image/png": "[encoded data removed]",
      "text/plain": [
       "<Figure size 432x288 with 1 Axes>"
      ]
     },
     "metadata": {
      "needs_background": "light"
     },
     "output_type": "display_data"
    }
   ],
   "source": [
    "### 3. telegram ratings Vs Amount raised \n",
    "\n",
    "\n",
    "df2_telegram = df2[['telegram_status','raised_percentage_sc']]\n",
    "\n",
    "df2_telegram = df2_telegram.dropna()\n",
    "\n",
    "sns.scatterplot(df2.telegram_status,df2.raised_percentage_sc)\n",
    "sns.barplot('telegram_status','raised_percentage_sc', data=df2_telegram)\n",
    "\n",
    "df2_telegram.corr()\n",
    "\n",
    "X = df2_telegram.telegram_status.values.reshape(-1,1)\n",
    "Y = df2_telegram.raised_percentage_sc.values.reshape(-1,1)\n",
    "## Linear Regression \n",
    "lin_reg = LinearRegression().fit(X,Y)\n",
    "\n",
    "\n",
    "## Ridge Regression \n",
    "ridge_model = Ridge().fit(X,Y)\n",
    "ridge = Ridge(alpha=50, max_iter=100, tol=0.1)\n",
    "\n",
    "## Lassoo \n",
    "lasso_reg = linear_model.Lasso(alpha= 0.8, max_iter=100, tol=0.1)\n",
    "lasso_reg.fit(X,Y)  \n",
    "\n",
    "print(\"Linear Regression coef = {}, Ridge regression coef = {}, Lasso coef = {}\".format(lin_reg.coef_,ridge_model.coef_, lasso_reg.coef_))\n",
    "\n",
    "df2_telegram.corr()"
   ]
  },
  {
   "cell_type": "code",
   "execution_count": 722,
   "metadata": {},
   "outputs": [
    {
     "name": "stdout",
     "output_type": "stream",
     "text": [
      "Linear Regression coef = [[4.02741741]], Ridge regression coef = [[4.0247441]], Lasso coef = [3.88235179]\n"
     ]
    },
    {
     "data": {
      "text/html": [
       "<div>\n",
       "<style scoped>\n",
       "    .dataframe tbody tr th:only-of-type {\n",
       "        vertical-align: middle;\n",
       "    }\n",
       "\n",
       "    .dataframe tbody tr th {\n",
       "        vertical-align: top;\n",
       "    }\n",
       "\n",
       "    .dataframe thead th {\n",
       "        text-align: right;\n",
       "    }\n",
       "</style>\n",
       "<table border=\"1\" class=\"dataframe\">\n",
       "  <thead>\n",
       "    <tr style=\"text-align: right;\">\n",
       "      <th></th>\n",
       "      <th>social_rating</th>\n",
       "      <th>raised_percentage_sc</th>\n",
       "    </tr>\n",
       "  </thead>\n",
       "  <tbody>\n",
       "    <tr>\n",
       "      <th>social_rating</th>\n",
       "      <td>1.000000</td>\n",
       "      <td>0.260312</td>\n",
       "    </tr>\n",
       "    <tr>\n",
       "      <th>raised_percentage_sc</th>\n",
       "      <td>0.260312</td>\n",
       "      <td>1.000000</td>\n",
       "    </tr>\n",
       "  </tbody>\n",
       "</table>\n",
       "</div>"
      ],
      "text/plain": [
       "                      social_rating  raised_percentage_sc\n",
       "social_rating              1.000000              0.260312\n",
       "raised_percentage_sc       0.260312              1.000000"
      ]
     },
     "execution_count": 722,
     "metadata": {},
     "output_type": "execute_result"
    },
    {
     "data": {
      "image/png": "[encoded data removed]",
      "text/plain": [
       "<Figure size 432x288 with 1 Axes>"
      ]
     },
     "metadata": {
      "needs_background": "light"
     },
     "output_type": "display_data"
    }
   ],
   "source": [
    "### 2. Overall social activity rating Vs Amount raised \n",
    "\n",
    "df2_social_rating = df2[['ico_name','social_rating','raised_percentage_sc']]\n",
    "\n",
    "df2_social_rating = df2_social_rating.dropna()\n",
    "\n",
    "sns.scatterplot(df2.social_rating,df2.raised_percentage_sc)\n",
    "sns.barplot('social_rating','raised_percentage_sc', data=df2_social_rating)\n",
    "\n",
    "\n",
    "\n",
    "X = df2_social_rating.social_rating.values.reshape(-1,1)\n",
    "Y = df2_social_rating.raised_percentage_sc.values.reshape(-1,1)\n",
    "\n",
    "## Linear Regression \n",
    "lin_reg = LinearRegression().fit(X,Y)\n",
    "\n",
    "\n",
    "## Ridge Regression \n",
    "ridge_model = Ridge().fit(X,Y)\n",
    "ridge = Ridge(alpha=50, max_iter=100, tol=0.1)\n",
    "\n",
    "## Lassoo \n",
    "lasso_reg = linear_model.Lasso(alpha= 0.8, max_iter=100, tol=0.1)\n",
    "lasso_reg.fit(X,Y)  \n",
    "\n",
    "print(\"Linear Regression coef = {}, Ridge regression coef = {}, Lasso coef = {}\".format(lin_reg.coef_,ridge_model.coef_, lasso_reg.coef_))\n",
    "df2_social_rating.corr()"
   ]
  },
  {
   "cell_type": "code",
   "execution_count": 727,
   "metadata": {},
   "outputs": [
    {
     "data": {
      "text/html": [
       "<div>\n",
       "<style scoped>\n",
       "    .dataframe tbody tr th:only-of-type {\n",
       "        vertical-align: middle;\n",
       "    }\n",
       "\n",
       "    .dataframe tbody tr th {\n",
       "        vertical-align: top;\n",
       "    }\n",
       "\n",
       "    .dataframe thead th {\n",
       "        text-align: right;\n",
       "    }\n",
       "</style>\n",
       "<table border=\"1\" class=\"dataframe\">\n",
       "  <thead>\n",
       "    <tr style=\"text-align: right;\">\n",
       "      <th></th>\n",
       "      <th>ico_name</th>\n",
       "      <th>facebook_status</th>\n",
       "      <th>twitter_status</th>\n",
       "      <th>telegram_status</th>\n",
       "      <th>social_rating</th>\n",
       "      <th>raised_percentage_sc</th>\n",
       "    </tr>\n",
       "  </thead>\n",
       "  <tbody>\n",
       "    <tr>\n",
       "      <th>2</th>\n",
       "      <td>Coin</td>\n",
       "      <td>1.0</td>\n",
       "      <td>1.0</td>\n",
       "      <td>1.0</td>\n",
       "      <td>1.3</td>\n",
       "      <td>1.1</td>\n",
       "    </tr>\n",
       "    <tr>\n",
       "      <th>3</th>\n",
       "      <td>OFID</td>\n",
       "      <td>1.0</td>\n",
       "      <td>1.0</td>\n",
       "      <td>1.0</td>\n",
       "      <td>1.0</td>\n",
       "      <td>0.0</td>\n",
       "    </tr>\n",
       "    <tr>\n",
       "      <th>5</th>\n",
       "      <td>cryptex.network</td>\n",
       "      <td>1.0</td>\n",
       "      <td>1.0</td>\n",
       "      <td>1.0</td>\n",
       "      <td>1.0</td>\n",
       "      <td>0.0</td>\n",
       "    </tr>\n",
       "    <tr>\n",
       "      <th>7</th>\n",
       "      <td>Hamilton</td>\n",
       "      <td>1.0</td>\n",
       "      <td>1.0</td>\n",
       "      <td>1.0</td>\n",
       "      <td>3.0</td>\n",
       "      <td>0.0</td>\n",
       "    </tr>\n",
       "    <tr>\n",
       "      <th>8</th>\n",
       "      <td>ESTATE COIN</td>\n",
       "      <td>3.0</td>\n",
       "      <td>3.0</td>\n",
       "      <td>3.0</td>\n",
       "      <td>4.0</td>\n",
       "      <td>100.0</td>\n",
       "    </tr>\n",
       "  </tbody>\n",
       "</table>\n",
       "</div>"
      ],
      "text/plain": [
       "          ico_name  facebook_status  twitter_status  telegram_status  \\\n",
       "2             Coin              1.0             1.0              1.0   \n",
       "3             OFID              1.0             1.0              1.0   \n",
       "5  cryptex.network              1.0             1.0              1.0   \n",
       "7         Hamilton              1.0             1.0              1.0   \n",
       "8      ESTATE COIN              3.0             3.0              3.0   \n",
       "\n",
       "   social_rating  raised_percentage_sc  \n",
       "2            1.3                   1.1  \n",
       "3            1.0                   0.0  \n",
       "5            1.0                   0.0  \n",
       "7            3.0                   0.0  \n",
       "8            4.0                 100.0  "
      ]
     },
     "execution_count": 727,
     "metadata": {},
     "output_type": "execute_result"
    }
   ],
   "source": [
    "## Analysing correlation of all social rating over amount raised collectively\n",
    "\n",
    "df2_socialRatingsVsRaised = df2[['ico_name','facebook_status', 'twitter_status', 'telegram_status',\n",
    "       'social_rating', 'raised_percentage_sc']]\n",
    "df2_socialRatingsVsRaised.dropna(inplace=True)\n",
    "df2_socialRatingsVsRaised.head()"
   ]
  },
  {
   "cell_type": "code",
   "execution_count": 724,
   "metadata": {},
   "outputs": [
    {
     "name": "stdout",
     "output_type": "stream",
     "text": [
      "Linear Regression coef = [ 17.32418632 -12.47381608   8.83481603   4.66062499],\n",
      " Ridge regression coef = [ 15.73051529 -10.62295295   8.81933944   4.48942225], \n",
      " Lasso Regression coef = [ 8.51984725 -1.63370284  8.70336493  3.48895957]\n"
     ]
    },
    {
     "data": {
      "text/html": [
       "<div>\n",
       "<style scoped>\n",
       "    .dataframe tbody tr th:only-of-type {\n",
       "        vertical-align: middle;\n",
       "    }\n",
       "\n",
       "    .dataframe tbody tr th {\n",
       "        vertical-align: top;\n",
       "    }\n",
       "\n",
       "    .dataframe thead th {\n",
       "        text-align: right;\n",
       "    }\n",
       "</style>\n",
       "<table border=\"1\" class=\"dataframe\">\n",
       "  <thead>\n",
       "    <tr style=\"text-align: right;\">\n",
       "      <th></th>\n",
       "      <th>corr</th>\n",
       "      <th>p_value</th>\n",
       "    </tr>\n",
       "  </thead>\n",
       "  <tbody>\n",
       "    <tr>\n",
       "      <th>facebook_status</th>\n",
       "      <td>0.491</td>\n",
       "      <td>0.000</td>\n",
       "    </tr>\n",
       "    <tr>\n",
       "      <th>twitter_status</th>\n",
       "      <td>0.430</td>\n",
       "      <td>0.001</td>\n",
       "    </tr>\n",
       "    <tr>\n",
       "      <th>telegram_status</th>\n",
       "      <td>0.437</td>\n",
       "      <td>0.001</td>\n",
       "    </tr>\n",
       "    <tr>\n",
       "      <th>social_rating</th>\n",
       "      <td>0.399</td>\n",
       "      <td>0.002</td>\n",
       "    </tr>\n",
       "  </tbody>\n",
       "</table>\n",
       "</div>"
      ],
      "text/plain": [
       "                  corr  p_value\n",
       "facebook_status  0.491    0.000\n",
       "twitter_status   0.430    0.001\n",
       "telegram_status  0.437    0.001\n",
       "social_rating    0.399    0.002"
      ]
     },
     "execution_count": 724,
     "metadata": {},
     "output_type": "execute_result"
    }
   ],
   "source": [
    "### Separating datas for regression analysis of social ratings vs amount raised\n",
    "\n",
    "count = 0\n",
    "\n",
    "all_social_features_df = df2[['facebook_status','twitter_status','telegram_status','social_rating','raised_percentage_sc']]\n",
    "all_social_features_df = all_social_features_df.dropna()\n",
    "\n",
    "X = all_social_features_df.drop(['raised_percentage_sc'], axis = 1)\n",
    "Y = all_social_features_df['raised_percentage_sc']\n",
    "\n",
    "## Linear Regression \n",
    "lin_reg = LinearRegression().fit(X,Y)\n",
    "\n",
    "## Ridge Regression \n",
    "ridge_model = Ridge().fit(X,Y)\n",
    "ridge = Ridge(alpha=50, max_iter=100, tol=0.1)\n",
    "\n",
    "## Lassoo \n",
    "lasso_reg = linear_model.Lasso(alpha= 0.8, max_iter=100, tol=0.1)\n",
    "lasso_reg.fit(X,Y)  \n",
    "\n",
    "print(\"Linear Regression coef = {},\\n Ridge regression coef = {}, \\n Lasso Regression coef = {}\".format(lin_reg.coef_,ridge_model.coef_, lasso_reg.coef_))\n",
    "all_social_features_df.corr()\n",
    "\n",
    "## p-value\n",
    "\n",
    "social_vs_amount_corr = pd.DataFrame(columns=['corr', 'p_value'])\n",
    "for col in X.columns:\n",
    "    corr,p_value = stats.pearsonr(X[col],Y)\n",
    "    social_vs_amount_corr.loc[col] =[round(corr,3),round(p_value,3)]\n",
    "\n",
    "social_vs_amount_corr \n"
   ]
  },
  {
   "cell_type": "code",
   "execution_count": null,
   "metadata": {},
   "outputs": [],
   "source": []
  },
  {
   "cell_type": "code",
   "execution_count": null,
   "metadata": {},
   "outputs": [],
   "source": []
  },
  {
   "cell_type": "code",
   "execution_count": null,
   "metadata": {},
   "outputs": [],
   "source": []
  },
  {
   "cell_type": "code",
   "execution_count": null,
   "metadata": {},
   "outputs": [],
   "source": []
  }
 ],
 "metadata": {
  "kernelspec": {
   "display_name": "Python 3",
   "language": "python",
   "name": "python3"
  },
  "language_info": {
   "codemirror_mode": {
    "name": "ipython",
    "version": 3
   },
   "file_extension": ".py",
   "mimetype": "text/x-python",
   "name": "python",
   "nbconvert_exporter": "python",
   "pygments_lexer": "ipython3",
   "version": "3.8.5"
  }
 },
 "nbformat": 4,
 "nbformat_minor": 4
}
