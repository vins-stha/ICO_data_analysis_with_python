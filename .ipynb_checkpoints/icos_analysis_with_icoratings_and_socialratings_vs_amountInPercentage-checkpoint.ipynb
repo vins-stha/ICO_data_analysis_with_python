{
 "cells": [
  {
   "cell_type": "code",
   "execution_count": 603,
   "metadata": {},
   "outputs": [],
   "source": [
    "import pandas as pd\n",
    "import matplotlib.pyplot as plt\n",
    "import seaborn as sns\n",
    "import numpy as np\n",
    "import sklearn as sk   "
   ]
  },
  {
   "cell_type": "code",
   "execution_count": 604,
   "metadata": {},
   "outputs": [],
   "source": [
    "import warnings\n",
    "warnings.filterwarnings('ignore')"
   ]
  },
  {
   "cell_type": "code",
   "execution_count": 618,
   "metadata": {},
   "outputs": [],
   "source": [
    "df = pd.read_csv(\"all_ico_data.csv\")\n",
    "# df = pd.read_csv(\"icos2017.csv\")\n",
    "\n",
    "## Cleaning data\n",
    "    ## 1. remove \",\" from financial datas \n",
    "    ## 2. convert rating columns to type float\n",
    "\n",
    "\n",
    "for i in df.index:\n",
    "    try:\n",
    "        if (type(df['hardcap'][i]) == str):\n",
    "            df['hardcap'][i] = df['hardcap'][i].replace(\",\",\"\")\n",
    "                          \n",
    "        if type(df['ih_raised'][i]) == str:\n",
    "            df['ih_raised'][i] = df['ih_raised'][i].replace(\",\",\"\")                      \n",
    "            \n",
    "        if (type(df['softcap'][i]) == str):\n",
    "            df['softcap'][i] = df['softcap'][i].replace(\",\",\"\")\n",
    "     \n",
    "    except Exception as e:\n",
    "        pass\n",
    "    \n",
    "    \n",
    "## fill na/- values present in aggregate with corresponding values of icobench or icomarks\n",
    "\n",
    "for index in df.index:\n",
    "    a_r =  df['aggregate_rating'][index]\n",
    "    im_r =  df['icomarks_rating'][index]\n",
    "    ib_r =  df['icobench_rating'][index]\n",
    "    if (a_r == '-' and (im_r != '-' or ib_r != '-')):\n",
    "        try:\n",
    "            if im_r != '-':\n",
    "                df['aggregate_rating'][index] = float(im_r)\n",
    "            else:\n",
    "                 df['aggregate_rating'][index] = float(ib_r)\n",
    "                        \n",
    "        except Exception as e:\n",
    "            print(e)\n",
    "\n",
    "## Create a subset dataframe out of main df excluding relavtively less important columns/or with most NaN values\n",
    "sub_df = df.drop(['ticker', 'platform', 'profile_rating', 'date_ended','country','bounty_status','icobazaar_rating'], axis=1) \n",
    "\n"
   ]
  },
  {
   "cell_type": "code",
   "execution_count": 589,
   "metadata": {},
   "outputs": [],
   "source": []
  },
  {
   "cell_type": "code",
   "execution_count": 611,
   "metadata": {},
   "outputs": [],
   "source": []
  },
  {
   "cell_type": "code",
   "execution_count": 633,
   "metadata": {},
   "outputs": [],
   "source": [
    "## Step 2. convert icomarks rating into scaling of 5 from 10 !!! ????\n",
    "\n",
    "## Drop all the rows whose column values from aggreagate rating with NaN and other least relevant columns\n",
    "\n",
    "sub_df = sub_df.dropna(subset=['ih_raised','softcap','ih_softcap','aggregate_rating'])\n",
    "\n",
    "## dataframe of only ratings columns being considered \n",
    "\n",
    "# df_ratings = sub_df[['icobench_rating', 'icomarks_rating','aggregate_rating']]\n",
    "\n",
    "## 1. Create subset dataframe with only caps and rating columns to determine correlation among the caps and the ratings\n",
    "## 2. Create subset dataframe with only caps and social activities to determine correlation among the caps and the social activities\n",
    "\n",
    "df_fundsVsIcoRating = sub_df[['ico_name', 'hardcap','softcap', 'raised',\n",
    "       'ih_hardcap', 'ih_softcap','ih_raised','team_rating_ib', \n",
    "        'team_rating_im', 'product_rating', 'vision_rating','icobench_rating', 'icomarks_rating', 'aggregate_rating']]\n",
    "\n",
    "df_fundsVsIcoRating.drop_duplicates(subset=['ico_name'], keep='first', inplace=True, ignore_index=False);\n"
   ]
  },
  {
   "cell_type": "code",
   "execution_count": null,
   "metadata": {},
   "outputs": [],
   "source": []
  },
  {
   "cell_type": "code",
   "execution_count": 639,
   "metadata": {},
   "outputs": [
    {
     "data": {
      "text/plain": [
       "Index(['ico_name', 'hardcap', 'softcap', 'raised', 'ih_hardcap', 'ih_softcap',\n",
       "       'ih_raised', 'team_rating_ib', 'team_rating_im', 'product_rating',\n",
       "       'vision_rating', 'icobench_rating', 'icomarks_rating',\n",
       "       'aggregate_rating', 'raised_percentage_sc'],\n",
       "      dtype='object')"
      ]
     },
     "execution_count": 639,
     "metadata": {},
     "output_type": "execute_result"
    }
   ],
   "source": [
    "### Add column with listing of amount raised in % based on softcap of the ico\n",
    "\n",
    "amount = raised_sc_pc = percent_raised = 0\n",
    "raised_pc =[]\n",
    "funds = df_fundsVsIcoRating\n",
    "count = 0\n",
    "\n",
    "for i in df_fundsVsIcoRating.index:    \n",
    "    try:\n",
    "        hardcap = float(df_fundsVsIcoRating['ih_hardcap'][i])\n",
    "        raised_percentage_hc = float(df_fundsVsIcoRating['ih_raised'][i])   \n",
    "        softcap = float(df_fundsVsIcoRating['ih_softcap'][i])\n",
    "    \n",
    "        try:\n",
    "            amount_raised = raised_percentage_hc * hardcap \n",
    "            raised_percentage_sc = round((amount_raised / softcap),2)\n",
    "            count = count + 1\n",
    "\n",
    "        except Exception as e:\n",
    "            print(\"EXCEPTION\",e)\n",
    "            pass\n",
    "    except Exception as e:\n",
    "#         print(e, funds['ico_name'][i],funds['raised'][i],funds['ih_raised'][i])\n",
    "        print(e, df_fundsVsIcoRating['ico_name'][i],df_fundsVsIcoRating['raised'][i],df_fundsVsIcoRating['ih_raised'][i])                  \n",
    "\n",
    "            \n",
    "    if raised_percentage_sc >= 100:\n",
    "        raised_percentage_sc = 100   \n",
    "    df_fundsVsIcoRating['raised_percentage_sc'][i]= raised_percentage_sc;\n",
    "\n",
    "                      \n",
    "df_fundsVsIcoRating.columns"
   ]
  },
  {
   "cell_type": "code",
   "execution_count": null,
   "metadata": {},
   "outputs": [],
   "source": [
    "\n"
   ]
  },
  {
   "cell_type": "code",
   "execution_count": 640,
   "metadata": {
    "scrolled": true
   },
   "outputs": [
    {
     "name": "stdout",
     "output_type": "stream",
     "text": [
      "\n",
      "\n"
     ]
    },
    {
     "data": {
      "image/png": "[encoded data removed]",
      "text/plain": [
       "<Figure size 864x432 with 1 Axes>"
      ]
     },
     "metadata": {
      "needs_background": "light"
     },
     "output_type": "display_data"
    },
    {
     "data": {
      "image/png": "[encoded data removed]",
      "text/plain": [
       "<Figure size 432x432 with 1 Axes>"
      ]
     },
     "metadata": {
      "needs_background": "light"
     },
     "output_type": "display_data"
    },
    {
     "name": "stdout",
     "output_type": "stream",
     "text": [
      "\n",
      "\n"
     ]
    },
    {
     "data": {
      "image/png": "[encoded data removed]",
      "text/plain": [
       "<Figure size 432x432 with 1 Axes>"
      ]
     },
     "metadata": {
      "needs_background": "light"
     },
     "output_type": "display_data"
    },
    {
     "name": "stdout",
     "output_type": "stream",
     "text": [
      "\n",
      "\n"
     ]
    },
    {
     "data": {
      "image/png": "[encoded data removed]",
      "text/plain": [
       "<Figure size 432x432 with 1 Axes>"
      ]
     },
     "metadata": {
      "needs_background": "light"
     },
     "output_type": "display_data"
    },
    {
     "name": "stdout",
     "output_type": "stream",
     "text": [
      "\n",
      "\n"
     ]
    },
    {
     "data": {
      "text/plain": [
       "<Figure size 432x432 with 0 Axes>"
      ]
     },
     "metadata": {},
     "output_type": "display_data"
    },
    {
     "data": {
      "image/png": "[encoded data removed]",
      "text/plain": [
       "<Figure size 864x432 with 1 Axes>"
      ]
     },
     "metadata": {
      "needs_background": "light"
     },
     "output_type": "display_data"
    }
   ],
   "source": [
    "## Drop off capital columns and other other repetitive features\n",
    "\n",
    "df_fundsVsIcoRating = df_fundsVsIcoRating[['raised_percentage_sc','team_rating_ib','product_rating',\n",
    "       'vision_rating', 'aggregate_rating']]\n",
    "\n",
    "df_fundsVsIcoRating = df_fundsVsIcoRating.dropna()\n",
    "\n",
    "## Scatter plots \n",
    "\n",
    "cols = features = df_fundsVsIcoRating.drop(['raised_percentage_sc'],axis=1)\n",
    "index = target = df_fundsVsIcoRating['raised_percentage_sc']\n",
    "\n",
    "## 1. All scatterplots in one \n",
    "\n",
    "plt.figure(figsize=(12,6));\n",
    "for col in features.columns:\n",
    "    col_index= features.columns.get_loc(col)\n",
    "    if col == \"aggregate_rating\":      \n",
    "        features[col] = features[col].astype(float)\n",
    "        features = features.sort_values(by='aggregate_rating',ascending = True) \n",
    "\n",
    "\n",
    "    sns.scatterplot(features.iloc[:,col_index], target, label=col);\n",
    "# print(features.aggregate_rating.values)\n",
    "## 2. Individual Scatter plot for each indepedent variables against dependent variable\n",
    " \n",
    "for col in features.columns:\n",
    "    figure = plt.figure(figsize=(6,6));    \n",
    "    \n",
    "    if col == \"aggregate_rating\":\n",
    "        plt.figure(figsize=(12,6));\n",
    "        features = features.sort_values(by='aggregate_rating',ascending = True)  \n",
    "    \n",
    "    ax = plt.gca();\n",
    "    ax.scatter(features[col],target,label=col);\n",
    "    ax.set_xlabel(col)\n",
    "    ax.set_ylabel(\"raised_percentage_sc\")\n",
    "\n",
    "    ax.set_title(\"{} vs {}\".format(col, 'raised_percentage_sc'));\n",
    "    print(\"\\n\") \n",
    "\n",
    "    plt.legend();\n",
    "    plt.show();"
   ]
  },
  {
   "cell_type": "code",
   "execution_count": 621,
   "metadata": {},
   "outputs": [],
   "source": [
    "\n"
   ]
  },
  {
   "cell_type": "code",
   "execution_count": 244,
   "metadata": {},
   "outputs": [],
   "source": []
  },
  {
   "cell_type": "code",
   "execution_count": 641,
   "metadata": {
    "scrolled": true
   },
   "outputs": [
    {
     "data": {
      "text/plain": [
       "<seaborn.axisgrid.PairGrid at 0x23f9c448>"
      ]
     },
     "execution_count": 641,
     "metadata": {},
     "output_type": "execute_result"
    },
    {
     "data": {
      "image/png": "[encoded data removed]",
      "text/plain": [
       "<Figure size 900x900 with 30 Axes>"
      ]
     },
     "metadata": {
      "needs_background": "light"
     },
     "output_type": "display_data"
    }
   ],
   "source": [
    "from scipy.stats import pearsonr\n",
    "\n",
    "values = df_fundsVsIcoRating.astype(float).values\n",
    "\n",
    "sns.pairplot(df_fundsVsIcoRating.astype(float).corr())\n"
   ]
  },
  {
   "cell_type": "code",
   "execution_count": null,
   "metadata": {},
   "outputs": [],
   "source": []
  },
  {
   "cell_type": "code",
   "execution_count": 679,
   "metadata": {},
   "outputs": [
    {
     "name": "stdout",
     "output_type": "stream",
     "text": [
      "linear coef [raised_percentage_sc vs aggregate_rating] =  [[8.11969331]] \n",
      "linear coef [all_ratings vs aggregate_rating] = [ 2.17240685 -4.66535854 -1.66828359  0.34746224]\n"
     ]
    },
    {
     "data": {
      "text/html": [
       "<div>\n",
       "<style scoped>\n",
       "    .dataframe tbody tr th:only-of-type {\n",
       "        vertical-align: middle;\n",
       "    }\n",
       "\n",
       "    .dataframe tbody tr th {\n",
       "        vertical-align: top;\n",
       "    }\n",
       "\n",
       "    .dataframe thead th {\n",
       "        text-align: right;\n",
       "    }\n",
       "</style>\n",
       "<table border=\"1\" class=\"dataframe\">\n",
       "  <thead>\n",
       "    <tr style=\"text-align: right;\">\n",
       "      <th></th>\n",
       "      <th>corr</th>\n",
       "      <th>p_value</th>\n",
       "    </tr>\n",
       "  </thead>\n",
       "  <tbody>\n",
       "    <tr>\n",
       "      <th>raised_percentage_sc</th>\n",
       "      <td>1.000</td>\n",
       "      <td>0.000</td>\n",
       "    </tr>\n",
       "    <tr>\n",
       "      <th>team_rating_ib</th>\n",
       "      <td>0.098</td>\n",
       "      <td>0.103</td>\n",
       "    </tr>\n",
       "    <tr>\n",
       "      <th>product_rating</th>\n",
       "      <td>0.071</td>\n",
       "      <td>0.242</td>\n",
       "    </tr>\n",
       "    <tr>\n",
       "      <th>vision_rating</th>\n",
       "      <td>0.099</td>\n",
       "      <td>0.100</td>\n",
       "    </tr>\n",
       "    <tr>\n",
       "      <th>aggregate_rating</th>\n",
       "      <td>0.141</td>\n",
       "      <td>0.019</td>\n",
       "    </tr>\n",
       "  </tbody>\n",
       "</table>\n",
       "</div>"
      ],
      "text/plain": [
       "                       corr  p_value\n",
       "raised_percentage_sc  1.000    0.000\n",
       "team_rating_ib        0.098    0.103\n",
       "product_rating        0.071    0.242\n",
       "vision_rating         0.099    0.100\n",
       "aggregate_rating      0.141    0.019"
      ]
     },
     "execution_count": 679,
     "metadata": {},
     "output_type": "execute_result"
    }
   ],
   "source": [
    "\n",
    "from sklearn.linear_model import LinearRegression\n",
    "from sklearn.model_selection import train_test_split\n",
    "\n",
    "### Training \n",
    "\n",
    "for col in df_fundsVsIcoRating.columns:\n",
    "    df_fundsVsIcoRating[col] = df_fundsVsIcoRating[col].astype(float)\n",
    "    \n",
    "train_X, test_x, train_Y,test_y = train_test_split(features,target, test_size = 0.2)\n",
    "\n",
    "## 3.1. Linear Regression with all features against 'raised_percentage_sc'\n",
    "\n",
    "reg = LinearRegression().fit(train_X,train_Y)\n",
    "lin_reg_all_features = LinearRegression().fit(features, target)\n",
    "\n",
    "## linear regression of individual feature vs 'aggregate_rating'\n",
    "\n",
    "Y1 = df_fundsVsIcoRating.raised_percentage_sc.values.reshape(-1,1)\n",
    "X1 = df_fundsVsIcoRating.aggregate_rating.values.reshape(-1,1)\n",
    "    \n",
    "lin_reg = LinearRegression().fit(X1,Y1)\n",
    " \n",
    "## correlation table for each column with corresponding p-value\n",
    "\n",
    "ico_rating_vs_amount_corr = pd.DataFrame(columns=['corr', 'p_value'])\n",
    "for col in df_fundsVsIcoRating.columns:\n",
    "    corr,p_value = stats.pearsonr(df_fundsVsIcoRating[col],df_fundsVsIcoRating['raised_percentage_sc'])\n",
    "    ico_rating_vs_amount_corr.loc[col] =[round(corr,3),round(p_value,3)]\n",
    "\n",
    "\n",
    "print(\"linear coef [raised_percentage_sc vs aggregate_rating] = \",lin_reg.coef_,\n",
    "       \"\\nlinear coef [all_ratings vs aggregate_rating] = {}\".format(lin_reg_all_features.coef_))\n",
    "social_vs_amount_corr "
   ]
  },
  {
   "cell_type": "code",
   "execution_count": 658,
   "metadata": {},
   "outputs": [
    {
     "data": {
      "text/plain": [
       "(array([ 2.07488318, -4.53786942, -1.67778865,  0.33166765]),\n",
       " array([ 0.80008024, -0.85633057, -3.16148174,  1.56301743]))"
      ]
     },
     "execution_count": 658,
     "metadata": {},
     "output_type": "execute_result"
    }
   ],
   "source": [
    "from sklearn.linear_model import Ridge\n",
    "\n",
    "ridge_model = Ridge().fit(features, target)\n",
    "ridge = Ridge(alpha=50, max_iter=100, tol=0.1)\n",
    "\n",
    "ridge.fit(train_X, train_Y)\n",
    "\n",
    "# print(ridge.score(test_x, test_y),ridge.score(train_X, train_Y))\n",
    "ridge_model.coef_, ridge.coef_"
   ]
  },
  {
   "cell_type": "code",
   "execution_count": 659,
   "metadata": {},
   "outputs": [
    {
     "name": "stdout",
     "output_type": "stream",
     "text": [
      "[ 0.         -0.         -2.29454059  0.        ]\n"
     ]
    },
    {
     "data": {
      "text/html": [
       "<div>\n",
       "<style scoped>\n",
       "    .dataframe tbody tr th:only-of-type {\n",
       "        vertical-align: middle;\n",
       "    }\n",
       "\n",
       "    .dataframe tbody tr th {\n",
       "        vertical-align: top;\n",
       "    }\n",
       "\n",
       "    .dataframe thead th {\n",
       "        text-align: right;\n",
       "    }\n",
       "</style>\n",
       "<table border=\"1\" class=\"dataframe\">\n",
       "  <thead>\n",
       "    <tr style=\"text-align: right;\">\n",
       "      <th></th>\n",
       "      <th>team_rating_ib</th>\n",
       "      <th>product_rating</th>\n",
       "      <th>vision_rating</th>\n",
       "      <th>aggregate_rating</th>\n",
       "    </tr>\n",
       "  </thead>\n",
       "  <tbody>\n",
       "    <tr>\n",
       "      <th>999</th>\n",
       "      <td>4.3</td>\n",
       "      <td>3.8</td>\n",
       "      <td>4.4</td>\n",
       "      <td>4.0</td>\n",
       "    </tr>\n",
       "    <tr>\n",
       "      <th>709</th>\n",
       "      <td>4.3</td>\n",
       "      <td>4.1</td>\n",
       "      <td>4.2</td>\n",
       "      <td>4.2</td>\n",
       "    </tr>\n",
       "    <tr>\n",
       "      <th>559</th>\n",
       "      <td>4.3</td>\n",
       "      <td>3.7</td>\n",
       "      <td>3.9</td>\n",
       "      <td>4.0</td>\n",
       "    </tr>\n",
       "    <tr>\n",
       "      <th>212</th>\n",
       "      <td>4.4</td>\n",
       "      <td>4.0</td>\n",
       "      <td>5.0</td>\n",
       "      <td>3.4</td>\n",
       "    </tr>\n",
       "    <tr>\n",
       "      <th>91</th>\n",
       "      <td>4.5</td>\n",
       "      <td>4.2</td>\n",
       "      <td>4.4</td>\n",
       "      <td>4.3</td>\n",
       "    </tr>\n",
       "    <tr>\n",
       "      <th>...</th>\n",
       "      <td>...</td>\n",
       "      <td>...</td>\n",
       "      <td>...</td>\n",
       "      <td>...</td>\n",
       "    </tr>\n",
       "    <tr>\n",
       "      <th>30</th>\n",
       "      <td>4.6</td>\n",
       "      <td>4.2</td>\n",
       "      <td>4.5</td>\n",
       "      <td>4.4</td>\n",
       "    </tr>\n",
       "    <tr>\n",
       "      <th>7</th>\n",
       "      <td>2.0</td>\n",
       "      <td>2.0</td>\n",
       "      <td>3.0</td>\n",
       "      <td>1.7</td>\n",
       "    </tr>\n",
       "    <tr>\n",
       "      <th>96</th>\n",
       "      <td>3.6</td>\n",
       "      <td>3.4</td>\n",
       "      <td>3.5</td>\n",
       "      <td>3.6</td>\n",
       "    </tr>\n",
       "    <tr>\n",
       "      <th>1512</th>\n",
       "      <td>2.0</td>\n",
       "      <td>3.0</td>\n",
       "      <td>4.0</td>\n",
       "      <td>3.6</td>\n",
       "    </tr>\n",
       "    <tr>\n",
       "      <th>49</th>\n",
       "      <td>4.4</td>\n",
       "      <td>4.2</td>\n",
       "      <td>4.3</td>\n",
       "      <td>4.2</td>\n",
       "    </tr>\n",
       "  </tbody>\n",
       "</table>\n",
       "<p>220 rows × 4 columns</p>\n",
       "</div>"
      ],
      "text/plain": [
       "      team_rating_ib  product_rating  vision_rating  aggregate_rating\n",
       "999              4.3             3.8            4.4               4.0\n",
       "709              4.3             4.1            4.2               4.2\n",
       "559              4.3             3.7            3.9               4.0\n",
       "212              4.4             4.0            5.0               3.4\n",
       "91               4.5             4.2            4.4               4.3\n",
       "...              ...             ...            ...               ...\n",
       "30               4.6             4.2            4.5               4.4\n",
       "7                2.0             2.0            3.0               1.7\n",
       "96               3.6             3.4            3.5               3.6\n",
       "1512             2.0             3.0            4.0               3.6\n",
       "49               4.4             4.2            4.3               4.2\n",
       "\n",
       "[220 rows x 4 columns]"
      ]
     },
     "execution_count": 659,
     "metadata": {},
     "output_type": "execute_result"
    }
   ],
   "source": [
    " ## 2. Lasso Regression\n",
    "    \n",
    "from sklearn import linear_model\n",
    "lasso_reg = linear_model.Lasso(alpha= 0.8, max_iter=100, tol=0.1)\n",
    "lasso_reg.fit(train_X,train_Y)  \n",
    "\n",
    "print(lasso_reg.coef_)\n",
    "test = lasso_reg.score(test_x,test_y)\n",
    "train = lasso_reg.score(train_X,train_Y)\n",
    "\n"
   ]
  },
  {
   "cell_type": "code",
   "execution_count": null,
   "metadata": {},
   "outputs": [],
   "source": []
  },
  {
   "cell_type": "code",
   "execution_count": null,
   "metadata": {},
   "outputs": [],
   "source": []
  },
  {
   "cell_type": "code",
   "execution_count": null,
   "metadata": {},
   "outputs": [],
   "source": []
  },
  {
   "cell_type": "code",
   "execution_count": 647,
   "metadata": {},
   "outputs": [],
   "source": [
    "### Analysing amount raised against social activities in twitter, telegram and other social networks "
   ]
  },
  {
   "cell_type": "code",
   "execution_count": 646,
   "metadata": {
    "scrolled": true
   },
   "outputs": [],
   "source": [
    "df2 = df[['ico_name', 'hardcap','softcap', 'raised',\n",
    "       'ih_hardcap', 'ih_softcap','ih_raised','facebook_status','twitter_status', 'telegram_status', 'social_rating']]\n",
    "df2.drop_duplicates(subset=['ico_name'], keep='first', inplace=True, ignore_index=False);\n",
    "\n",
    "amounts = []\n",
    "raised_percentage_sc = 0\n",
    "for i in df2.index:\n",
    "#     print(i)\n",
    "    try:\n",
    "        hardcap = float(df['ih_hardcap'][i])\n",
    "        raised_percentage_hc = float(df['ih_raised'][i])   \n",
    "        softcap = float(df['ih_softcap'][i])\n",
    "    \n",
    "        try:\n",
    "            amount_raised = raised_percentage_hc * hardcap \n",
    "            raised_percentage_sc = round((amount_raised / softcap),1)\n",
    "#             count = count + 1\n",
    "            if raised_percentage_sc >= 100:\n",
    "              raised_percentage_sc = 100 \n",
    "# #             print(raised_percentage_sc)\n",
    "            amounts.append(raised_percentage_sc)         \n",
    "        except Exception as e:\n",
    "            print(\"EXCEPTION\",e)\n",
    "            j = j+1\n",
    "            \n",
    "    except Exception as e:\n",
    "#         print(e)\n",
    "        amounts.append(raised_percentage_sc)\n",
    "        pass\n",
    "df2['raised_percentage_sc']= amounts          \n"
   ]
  },
  {
   "cell_type": "code",
   "execution_count": 647,
   "metadata": {},
   "outputs": [],
   "source": [
    "### Change data types for social rating columns to float from string\n",
    "\n",
    "social_cols = ['telegram_status', 'facebook_status','twitter_status','social_rating']\n",
    "for col in df2.columns:\n",
    "    if col in social_cols:       \n",
    "        for index in df2.index:\n",
    "            value = df2[col][index]\n",
    "            if value == '-' :#or value == \"Benchy\":\n",
    "                df2[col][index] = df2[col][index].replace('-','')\n",
    "            if value == \"Benchy\":               \n",
    "                df2[col][index] = df2[col][index].replace(\"Benchy\",\"\")\n",
    "            try:\n",
    "                df2[col][index] = float(df2[col][index])                    \n",
    "            except Exception as e:\n",
    "                pass\n",
    "        df2 = df2.replace(r'^\\s*$', np.nan, regex=True)\n",
    "        df2[col] = df2[col].astype(float)\n"
   ]
  },
  {
   "cell_type": "code",
   "execution_count": 648,
   "metadata": {
    "scrolled": false
   },
   "outputs": [
    {
     "name": "stdout",
     "output_type": "stream",
     "text": [
      "Linear Regression coef = [[5.97286715]], Ridge regression coef = [[5.9654539]], Lasso coef = [5.52947308]\n"
     ]
    },
    {
     "data": {
      "text/html": [
       "<div>\n",
       "<style scoped>\n",
       "    .dataframe tbody tr th:only-of-type {\n",
       "        vertical-align: middle;\n",
       "    }\n",
       "\n",
       "    .dataframe tbody tr th {\n",
       "        vertical-align: top;\n",
       "    }\n",
       "\n",
       "    .dataframe thead th {\n",
       "        text-align: right;\n",
       "    }\n",
       "</style>\n",
       "<table border=\"1\" class=\"dataframe\">\n",
       "  <thead>\n",
       "    <tr style=\"text-align: right;\">\n",
       "      <th></th>\n",
       "      <th>facebook_status</th>\n",
       "      <th>raised_percentage_sc</th>\n",
       "    </tr>\n",
       "  </thead>\n",
       "  <tbody>\n",
       "    <tr>\n",
       "      <th>facebook_status</th>\n",
       "      <td>1.000000</td>\n",
       "      <td>0.204943</td>\n",
       "    </tr>\n",
       "    <tr>\n",
       "      <th>raised_percentage_sc</th>\n",
       "      <td>0.204943</td>\n",
       "      <td>1.000000</td>\n",
       "    </tr>\n",
       "  </tbody>\n",
       "</table>\n",
       "</div>"
      ],
      "text/plain": [
       "                      facebook_status  raised_percentage_sc\n",
       "facebook_status              1.000000              0.204943\n",
       "raised_percentage_sc         0.204943              1.000000"
      ]
     },
     "execution_count": 648,
     "metadata": {},
     "output_type": "execute_result"
    },
    {
     "data": {
      "image/png": "[encoded data removed]",
      "text/plain": [
       "<Figure size 432x288 with 1 Axes>"
      ]
     },
     "metadata": {
      "needs_background": "light"
     },
     "output_type": "display_data"
    }
   ],
   "source": [
    "### Subset of dataframe 'df2' with only two columns for analysis of individual correlation with amount raised \n",
    "\n",
    "    ## 1. Soical ('facebook') Vs Amount raised \n",
    "\n",
    "df2_social_fb = df2[['ico_name','facebook_status','raised_percentage_sc']]\n",
    "df2_social_fb = df2_social_fb.dropna()\n",
    "\n",
    "sns.scatterplot(df2.facebook_status,df2.raised_percentage_sc)\n",
    "sns.barplot('facebook_status','raised_percentage_sc', data=df2_social_fb)\n",
    "\n",
    "X = df2_social_fb.facebook_status.values.reshape(-1,1)\n",
    "Y = df2_social_fb.raised_percentage_sc.values.reshape(-1,1)\n",
    "## Linear Regression \n",
    "social_lin_reg = LinearRegression().fit(X,Y)\n",
    "\n",
    "\n",
    "## Ridge Regression \n",
    "ridge_model = Ridge().fit(X,Y)\n",
    "ridge = Ridge(alpha=50, max_iter=100, tol=0.1)\n",
    "\n",
    "## Lassoo \n",
    "lasso_reg = linear_model.Lasso(alpha= 0.8, max_iter=100, tol=0.1)\n",
    "lasso_reg.fit(X,Y)  \n",
    "\n",
    "print(\"Linear Regression coef = {}, Ridge regression coef = {}, Lasso coef = {}\".format(social_lin_reg.coef_,ridge_model.coef_, lasso_reg.coef_))\n",
    "df2_social_fb.corr()\n"
   ]
  },
  {
   "cell_type": "code",
   "execution_count": null,
   "metadata": {},
   "outputs": [],
   "source": []
  },
  {
   "cell_type": "code",
   "execution_count": 461,
   "metadata": {},
   "outputs": [
    {
     "name": "stdout",
     "output_type": "stream",
     "text": [
      "Linear Regression coef = [[5.71253376]], Ridge regression coef = [[5.70536321]], Lasso coef = [5.26712069]\n"
     ]
    },
    {
     "data": {
      "image/png": "[encoded data removed]",
      "text/plain": [
       "<Figure size 432x288 with 1 Axes>"
      ]
     },
     "metadata": {
      "needs_background": "light"
     },
     "output_type": "display_data"
    }
   ],
   "source": [
    "\n",
    " ## 2. Twitter ratings Vs Amount raised \n",
    "df2_twitter = df2[['twitter_status','raised_percentage_sc']]\n",
    "\n",
    "df2_twitter = df2_twitter.dropna()\n",
    "\n",
    "sns.scatterplot(df2_twitter.twitter_status,df2_twitter.raised_percentage_sc)\n",
    "sns.barplot('twitter_status','raised_percentage_sc', data=df2_twitter)\n",
    "\n",
    "X = df2_twitter.twitter_status.values.reshape(-1,1)\n",
    "Y = df2_twitter.raised_percentage_sc.values.reshape(-1,1)\n",
    "## Linear Regression \n",
    "twitter_lin_reg = LinearRegression().fit(X,Y)\n",
    "\n",
    "\n",
    "## Ridge Regression \n",
    "ridge_model = Ridge().fit(X,Y)\n",
    "ridge = Ridge(alpha=50, max_iter=100, tol=0.1)\n",
    "\n",
    "## Lassoo \n",
    "lasso_reg = linear_model.Lasso(alpha= 0.8, max_iter=100, tol=0.1)\n",
    "lasso_reg.fit(X,Y)  \n",
    "\n",
    "print(\"Linear Regression coef = {}, Ridge regression coef = {}, Lasso coef = {}\".format(twitter_lin_reg.coef_,ridge_model.coef_, lasso_reg.coef_))\n"
   ]
  },
  {
   "cell_type": "code",
   "execution_count": 463,
   "metadata": {
    "scrolled": false
   },
   "outputs": [
    {
     "name": "stdout",
     "output_type": "stream",
     "text": [
      "Linear Regression coef = [[10.54102338]], Ridge regression coef = [[10.48542482]], Lasso coef = [10.0319871]\n"
     ]
    },
    {
     "data": {
      "text/html": [
       "<div>\n",
       "<style scoped>\n",
       "    .dataframe tbody tr th:only-of-type {\n",
       "        vertical-align: middle;\n",
       "    }\n",
       "\n",
       "    .dataframe tbody tr th {\n",
       "        vertical-align: top;\n",
       "    }\n",
       "\n",
       "    .dataframe thead th {\n",
       "        text-align: right;\n",
       "    }\n",
       "</style>\n",
       "<table border=\"1\" class=\"dataframe\">\n",
       "  <thead>\n",
       "    <tr style=\"text-align: right;\">\n",
       "      <th></th>\n",
       "      <th>telegram_status</th>\n",
       "      <th>raised_percentage_sc</th>\n",
       "    </tr>\n",
       "  </thead>\n",
       "  <tbody>\n",
       "    <tr>\n",
       "      <th>telegram_status</th>\n",
       "      <td>1.000000</td>\n",
       "      <td>0.301203</td>\n",
       "    </tr>\n",
       "    <tr>\n",
       "      <th>raised_percentage_sc</th>\n",
       "      <td>0.301203</td>\n",
       "      <td>1.000000</td>\n",
       "    </tr>\n",
       "  </tbody>\n",
       "</table>\n",
       "</div>"
      ],
      "text/plain": [
       "                      telegram_status  raised_percentage_sc\n",
       "telegram_status              1.000000              0.301203\n",
       "raised_percentage_sc         0.301203              1.000000"
      ]
     },
     "execution_count": 463,
     "metadata": {},
     "output_type": "execute_result"
    },
    {
     "data": {
      "image/png": "[encoded data removed]",
      "text/plain": [
       "<Figure size 432x288 with 1 Axes>"
      ]
     },
     "metadata": {
      "needs_background": "light"
     },
     "output_type": "display_data"
    }
   ],
   "source": [
    "### 3. telegram ratings Vs Amount raised \n",
    "\n",
    "\n",
    "df2_telegram = df2[['telegram_status','raised_percentage_sc']]\n",
    "\n",
    "df2_telegram = df2_telegram.dropna()\n",
    "\n",
    "sns.scatterplot(df2.telegram_status,df2.raised_percentage_sc)\n",
    "sns.barplot('telegram_status','raised_percentage_sc', data=df2_telegram)\n",
    "\n",
    "df2_telegram.corr()\n",
    "\n",
    "X = df2_telegram.telegram_status.values.reshape(-1,1)\n",
    "Y = df2_telegram.raised_percentage_sc.values.reshape(-1,1)\n",
    "## Linear Regression \n",
    "lin_reg = LinearRegression().fit(X,Y)\n",
    "\n",
    "\n",
    "## Ridge Regression \n",
    "ridge_model = Ridge().fit(X,Y)\n",
    "ridge = Ridge(alpha=50, max_iter=100, tol=0.1)\n",
    "\n",
    "## Lassoo \n",
    "lasso_reg = linear_model.Lasso(alpha= 0.8, max_iter=100, tol=0.1)\n",
    "lasso_reg.fit(X,Y)  \n",
    "\n",
    "print(\"Linear Regression coef = {}, Ridge regression coef = {}, Lasso coef = {}\".format(lin_reg.coef_,ridge_model.coef_, lasso_reg.coef_))\n",
    "\n",
    "df2_telegram.corr()"
   ]
  },
  {
   "cell_type": "code",
   "execution_count": 464,
   "metadata": {},
   "outputs": [
    {
     "name": "stdout",
     "output_type": "stream",
     "text": [
      "Linear Regression coef = [[4.02741741]], Ridge regression coef = [[4.0247441]], Lasso coef = [3.88235179]\n"
     ]
    },
    {
     "data": {
      "text/html": [
       "<div>\n",
       "<style scoped>\n",
       "    .dataframe tbody tr th:only-of-type {\n",
       "        vertical-align: middle;\n",
       "    }\n",
       "\n",
       "    .dataframe tbody tr th {\n",
       "        vertical-align: top;\n",
       "    }\n",
       "\n",
       "    .dataframe thead th {\n",
       "        text-align: right;\n",
       "    }\n",
       "</style>\n",
       "<table border=\"1\" class=\"dataframe\">\n",
       "  <thead>\n",
       "    <tr style=\"text-align: right;\">\n",
       "      <th></th>\n",
       "      <th>social_rating</th>\n",
       "      <th>raised_percentage_sc</th>\n",
       "    </tr>\n",
       "  </thead>\n",
       "  <tbody>\n",
       "    <tr>\n",
       "      <th>social_rating</th>\n",
       "      <td>1.000000</td>\n",
       "      <td>0.260312</td>\n",
       "    </tr>\n",
       "    <tr>\n",
       "      <th>raised_percentage_sc</th>\n",
       "      <td>0.260312</td>\n",
       "      <td>1.000000</td>\n",
       "    </tr>\n",
       "  </tbody>\n",
       "</table>\n",
       "</div>"
      ],
      "text/plain": [
       "                      social_rating  raised_percentage_sc\n",
       "social_rating              1.000000              0.260312\n",
       "raised_percentage_sc       0.260312              1.000000"
      ]
     },
     "execution_count": 464,
     "metadata": {},
     "output_type": "execute_result"
    },
    {
     "data": {
      "image/png": "[encoded data removed]",
      "text/plain": [
       "<Figure size 432x288 with 1 Axes>"
      ]
     },
     "metadata": {
      "needs_background": "light"
     },
     "output_type": "display_data"
    }
   ],
   "source": [
    "### 2. Overall social activity rating Vs Amount raised \n",
    "\n",
    "df2_social_rating = df2[['ico_name','social_rating','raised_percentage_sc']]\n",
    "\n",
    "df2_social_rating = df2_social_rating.dropna()\n",
    "\n",
    "sns.scatterplot(df2.social_rating,df2.raised_percentage_sc)\n",
    "sns.barplot('social_rating','raised_percentage_sc', data=df2_social_rating)\n",
    "\n",
    "\n",
    "\n",
    "X = df2_social_rating.social_rating.values.reshape(-1,1)\n",
    "Y = df2_social_rating.raised_percentage_sc.values.reshape(-1,1)\n",
    "\n",
    "## Linear Regression \n",
    "lin_reg = LinearRegression().fit(X,Y)\n",
    "\n",
    "\n",
    "## Ridge Regression \n",
    "ridge_model = Ridge().fit(X,Y)\n",
    "ridge = Ridge(alpha=50, max_iter=100, tol=0.1)\n",
    "\n",
    "## Lassoo \n",
    "lasso_reg = linear_model.Lasso(alpha= 0.8, max_iter=100, tol=0.1)\n",
    "lasso_reg.fit(X,Y)  \n",
    "\n",
    "print(\"Linear Regression coef = {}, Ridge regression coef = {}, Lasso coef = {}\".format(lin_reg.coef_,ridge_model.coef_, lasso_reg.coef_))\n",
    "df2_social_rating.corr()"
   ]
  },
  {
   "cell_type": "code",
   "execution_count": 465,
   "metadata": {},
   "outputs": [],
   "source": [
    "## Analysing correlation of all social rating over amount raised collectively\n",
    "\n",
    "df2_socialRatingsVsRaised = df2[['ico_name','facebook_status', 'twitter_status', 'telegram_status',\n",
    "       'social_rating', 'raised_percentage_sc']]\n",
    "df2_socialRatingsVsRaised.dropna(inplace=True)"
   ]
  },
  {
   "cell_type": "code",
   "execution_count": 534,
   "metadata": {},
   "outputs": [
    {
     "name": "stdout",
     "output_type": "stream",
     "text": [
      "Linear Regression coef = [ 17.32418632 -12.47381608   8.83481603   4.66062499],\n",
      " Ridge regression coef = [ 15.73051529 -10.62295295   8.81933944   4.48942225], \n",
      " Lasso Regression coef = [ 8.51984725 -1.63370284  8.70336493  3.48895957]\n"
     ]
    },
    {
     "data": {
      "text/html": [
       "<div>\n",
       "<style scoped>\n",
       "    .dataframe tbody tr th:only-of-type {\n",
       "        vertical-align: middle;\n",
       "    }\n",
       "\n",
       "    .dataframe tbody tr th {\n",
       "        vertical-align: top;\n",
       "    }\n",
       "\n",
       "    .dataframe thead th {\n",
       "        text-align: right;\n",
       "    }\n",
       "</style>\n",
       "<table border=\"1\" class=\"dataframe\">\n",
       "  <thead>\n",
       "    <tr style=\"text-align: right;\">\n",
       "      <th></th>\n",
       "      <th>corr</th>\n",
       "      <th>p_value</th>\n",
       "    </tr>\n",
       "  </thead>\n",
       "  <tbody>\n",
       "    <tr>\n",
       "      <th>facebook_status</th>\n",
       "      <td>0.491</td>\n",
       "      <td>0.000</td>\n",
       "    </tr>\n",
       "    <tr>\n",
       "      <th>twitter_status</th>\n",
       "      <td>0.430</td>\n",
       "      <td>0.001</td>\n",
       "    </tr>\n",
       "    <tr>\n",
       "      <th>telegram_status</th>\n",
       "      <td>0.437</td>\n",
       "      <td>0.001</td>\n",
       "    </tr>\n",
       "    <tr>\n",
       "      <th>social_rating</th>\n",
       "      <td>0.399</td>\n",
       "      <td>0.002</td>\n",
       "    </tr>\n",
       "  </tbody>\n",
       "</table>\n",
       "</div>"
      ],
      "text/plain": [
       "                  corr  p_value\n",
       "facebook_status  0.491    0.000\n",
       "twitter_status   0.430    0.001\n",
       "telegram_status  0.437    0.001\n",
       "social_rating    0.399    0.002"
      ]
     },
     "execution_count": 534,
     "metadata": {},
     "output_type": "execute_result"
    }
   ],
   "source": [
    "### Separating datas for regression analysis of social ratings vs amount raised\n",
    "\n",
    "count = 0\n",
    "\n",
    "all_social_features_df = df2[['facebook_status','twitter_status','telegram_status','social_rating','raised_percentage_sc']]\n",
    "all_social_features_df = all_social_features_df.dropna()\n",
    "\n",
    "X = all_social_features_df.drop(['raised_percentage_sc'], axis = 1)\n",
    "Y = all_social_features_df['raised_percentage_sc']\n",
    "\n",
    "## Linear Regression \n",
    "lin_reg = LinearRegression().fit(X,Y)\n",
    "\n",
    "## Ridge Regression \n",
    "ridge_model = Ridge().fit(X,Y)\n",
    "ridge = Ridge(alpha=50, max_iter=100, tol=0.1)\n",
    "\n",
    "## Lassoo \n",
    "lasso_reg = linear_model.Lasso(alpha= 0.8, max_iter=100, tol=0.1)\n",
    "lasso_reg.fit(X,Y)  \n",
    "\n",
    "print(\"Linear Regression coef = {},\\n Ridge regression coef = {}, \\n Lasso Regression coef = {}\".format(lin_reg.coef_,ridge_model.coef_, lasso_reg.coef_))\n",
    "all_social_features_df.corr()\n",
    "\n",
    "## p-value\n",
    "\n",
    "social_vs_amount_corr = pd.DataFrame(columns=['corr', 'p_value'])\n",
    "for col in X.columns:\n",
    "    corr,p_value = stats.pearsonr(X[col],Y)\n",
    "    social_vs_amount_corr.loc[col] =[round(corr,3),round(p_value,3)]\n",
    "\n",
    "social_vs_amount_corr \n"
   ]
  },
  {
   "cell_type": "code",
   "execution_count": null,
   "metadata": {},
   "outputs": [],
   "source": []
  },
  {
   "cell_type": "code",
   "execution_count": 236,
   "metadata": {},
   "outputs": [
    {
     "ename": "AttributeError",
     "evalue": "'numpy.ndarray' object has no attribute 'raised_percentage_sc'",
     "output_type": "error",
     "traceback": [
      "\u001b[1;31m---------------------------------------------------------------------------\u001b[0m",
      "\u001b[1;31mAttributeError\u001b[0m                            Traceback (most recent call last)",
      "\u001b[1;32m<ipython-input-236-b387e0f7fff7>\u001b[0m in \u001b[0;36m<module>\u001b[1;34m\u001b[0m\n\u001b[0;32m      7\u001b[0m \u001b[1;33m\u001b[0m\u001b[0m\n\u001b[0;32m      8\u001b[0m \u001b[1;32mfor\u001b[0m \u001b[0mcol\u001b[0m \u001b[1;32min\u001b[0m \u001b[0mX1\u001b[0m\u001b[1;33m:\u001b[0m\u001b[1;33m\u001b[0m\u001b[1;33m\u001b[0m\u001b[0m\n\u001b[1;32m----> 9\u001b[1;33m     \u001b[0mcorr\u001b[0m\u001b[1;33m,\u001b[0m\u001b[0mp_value\u001b[0m \u001b[1;33m=\u001b[0m \u001b[0mstats\u001b[0m\u001b[1;33m.\u001b[0m\u001b[0mpearsonr\u001b[0m\u001b[1;33m(\u001b[0m\u001b[0mX1\u001b[0m\u001b[1;33m.\u001b[0m\u001b[0mraised_percentage_sc\u001b[0m\u001b[1;33m,\u001b[0m\u001b[0mX1\u001b[0m\u001b[1;33m[\u001b[0m\u001b[0mcol\u001b[0m\u001b[1;33m]\u001b[0m\u001b[1;33m)\u001b[0m\u001b[1;33m\u001b[0m\u001b[1;33m\u001b[0m\u001b[0m\n\u001b[0m\u001b[0;32m     10\u001b[0m     \u001b[0msocial_vs_amount_corr\u001b[0m\u001b[1;33m.\u001b[0m\u001b[0mloc\u001b[0m\u001b[1;33m[\u001b[0m\u001b[0mcol\u001b[0m\u001b[1;33m]\u001b[0m \u001b[1;33m=\u001b[0m\u001b[1;33m[\u001b[0m\u001b[0mround\u001b[0m\u001b[1;33m(\u001b[0m\u001b[0mcorr\u001b[0m\u001b[1;33m,\u001b[0m\u001b[1;36m3\u001b[0m\u001b[1;33m)\u001b[0m\u001b[1;33m,\u001b[0m\u001b[0mround\u001b[0m\u001b[1;33m(\u001b[0m\u001b[0mp_value\u001b[0m\u001b[1;33m,\u001b[0m\u001b[1;36m3\u001b[0m\u001b[1;33m)\u001b[0m\u001b[1;33m]\u001b[0m\u001b[1;33m\u001b[0m\u001b[1;33m\u001b[0m\u001b[0m\n\u001b[0;32m     11\u001b[0m \u001b[1;33m\u001b[0m\u001b[0m\n",
      "\u001b[1;31mAttributeError\u001b[0m: 'numpy.ndarray' object has no attribute 'raised_percentage_sc'"
     ]
    }
   ],
   "source": [
    "## calculate for corr and p-value \n",
    "\n",
    "from scipy import stats\n",
    "\n",
    "social_vs_amount_corr = pd.DataFrame(columns=['corr', 'p_value'])\n",
    "social_vs_amount_corr\n",
    "\n",
    "for col in X1:\n",
    "    corr,p_value = stats.pearsonr(X1.raised_percentage_sc,X1[col])\n",
    "    social_vs_amount_corr.loc[col] =[round(corr,3),round(p_value,3)]\n",
    "\n",
    "social_vs_amount_corr\n",
    "    "
   ]
  },
  {
   "cell_type": "code",
   "execution_count": 143,
   "metadata": {},
   "outputs": [
    {
     "ename": "ValueError",
     "evalue": "could not convert string to float: '100 BTC'",
     "output_type": "error",
     "traceback": [
      "\u001b[1;31m---------------------------------------------------------------------------\u001b[0m",
      "\u001b[1;31mValueError\u001b[0m                                Traceback (most recent call last)",
      "\u001b[1;32m<ipython-input-143-695de568b7a0>\u001b[0m in \u001b[0;36m<module>\u001b[1;34m\u001b[0m\n\u001b[0;32m     31\u001b[0m \u001b[0mdf_2017_typeA\u001b[0m\u001b[1;33m.\u001b[0m\u001b[0minsert\u001b[0m\u001b[1;33m(\u001b[0m\u001b[0mloc\u001b[0m\u001b[1;33m=\u001b[0m\u001b[1;36m0\u001b[0m\u001b[1;33m,\u001b[0m \u001b[0mcolumn\u001b[0m\u001b[1;33m=\u001b[0m\u001b[1;34m'ico_name'\u001b[0m\u001b[1;33m,\u001b[0m \u001b[0mvalue\u001b[0m \u001b[1;33m=\u001b[0m \u001b[0mdf_2017\u001b[0m\u001b[1;33m[\u001b[0m\u001b[1;34m'ico_name'\u001b[0m\u001b[1;33m]\u001b[0m\u001b[1;33m)\u001b[0m\u001b[1;33m\u001b[0m\u001b[1;33m\u001b[0m\u001b[0m\n\u001b[0;32m     32\u001b[0m \u001b[0mdf_2017_typeA\u001b[0m\u001b[1;33m[\u001b[0m\u001b[1;34m'hardcap'\u001b[0m\u001b[1;33m]\u001b[0m \u001b[1;33m=\u001b[0m \u001b[0mdf_2017_typeA\u001b[0m\u001b[1;33m[\u001b[0m\u001b[1;34m'hardcap'\u001b[0m\u001b[1;33m]\u001b[0m\u001b[1;33m.\u001b[0m\u001b[0mastype\u001b[0m\u001b[1;33m(\u001b[0m\u001b[0mfloat\u001b[0m\u001b[1;33m)\u001b[0m\u001b[1;33m\u001b[0m\u001b[1;33m\u001b[0m\u001b[0m\n\u001b[1;32m---> 33\u001b[1;33m \u001b[0mdf_2017_typeA\u001b[0m\u001b[1;33m[\u001b[0m\u001b[1;34m'softcap'\u001b[0m\u001b[1;33m]\u001b[0m \u001b[1;33m=\u001b[0m \u001b[0mdf_2017_typeA\u001b[0m\u001b[1;33m[\u001b[0m\u001b[1;34m'softcap'\u001b[0m\u001b[1;33m]\u001b[0m\u001b[1;33m.\u001b[0m\u001b[0mastype\u001b[0m\u001b[1;33m(\u001b[0m\u001b[0mfloat\u001b[0m\u001b[1;33m)\u001b[0m\u001b[1;33m\u001b[0m\u001b[1;33m\u001b[0m\u001b[0m\n\u001b[0m\u001b[0;32m     34\u001b[0m \u001b[0mdf_2017_typeA\u001b[0m\u001b[1;33m[\u001b[0m\u001b[1;34m'raised'\u001b[0m\u001b[1;33m]\u001b[0m \u001b[1;33m=\u001b[0m \u001b[0mdf_2017_typeA\u001b[0m\u001b[1;33m[\u001b[0m\u001b[1;34m'raised'\u001b[0m\u001b[1;33m]\u001b[0m\u001b[1;33m.\u001b[0m\u001b[0mastype\u001b[0m\u001b[1;33m(\u001b[0m\u001b[0mfloat\u001b[0m\u001b[1;33m)\u001b[0m\u001b[1;33m\u001b[0m\u001b[1;33m\u001b[0m\u001b[0m\n\u001b[0;32m     35\u001b[0m \u001b[0mdf_2017_typeA\u001b[0m\u001b[1;33m[\u001b[0m\u001b[1;34m'ih_hardcap'\u001b[0m\u001b[1;33m]\u001b[0m \u001b[1;33m=\u001b[0m \u001b[0mdf_2017_typeA\u001b[0m\u001b[1;33m[\u001b[0m\u001b[1;34m'ih_hardcap'\u001b[0m\u001b[1;33m]\u001b[0m\u001b[1;33m.\u001b[0m\u001b[0mastype\u001b[0m\u001b[1;33m(\u001b[0m\u001b[0mfloat\u001b[0m\u001b[1;33m)\u001b[0m\u001b[1;33m\u001b[0m\u001b[1;33m\u001b[0m\u001b[0m\n",
      "\u001b[1;32mc:\\users\\laptop\\appdata\\local\\programs\\python\\python38-32\\lib\\site-packages\\pandas\\core\\generic.py\u001b[0m in \u001b[0;36mastype\u001b[1;34m(self, dtype, copy, errors)\u001b[0m\n\u001b[0;32m   5804\u001b[0m         \u001b[1;32melse\u001b[0m\u001b[1;33m:\u001b[0m\u001b[1;33m\u001b[0m\u001b[1;33m\u001b[0m\u001b[0m\n\u001b[0;32m   5805\u001b[0m             \u001b[1;31m# else, only a single dtype is given\u001b[0m\u001b[1;33m\u001b[0m\u001b[1;33m\u001b[0m\u001b[1;33m\u001b[0m\u001b[0m\n\u001b[1;32m-> 5806\u001b[1;33m             \u001b[0mnew_data\u001b[0m \u001b[1;33m=\u001b[0m \u001b[0mself\u001b[0m\u001b[1;33m.\u001b[0m\u001b[0m_mgr\u001b[0m\u001b[1;33m.\u001b[0m\u001b[0mastype\u001b[0m\u001b[1;33m(\u001b[0m\u001b[0mdtype\u001b[0m\u001b[1;33m=\u001b[0m\u001b[0mdtype\u001b[0m\u001b[1;33m,\u001b[0m \u001b[0mcopy\u001b[0m\u001b[1;33m=\u001b[0m\u001b[0mcopy\u001b[0m\u001b[1;33m,\u001b[0m \u001b[0merrors\u001b[0m\u001b[1;33m=\u001b[0m\u001b[0merrors\u001b[0m\u001b[1;33m)\u001b[0m\u001b[1;33m\u001b[0m\u001b[1;33m\u001b[0m\u001b[0m\n\u001b[0m\u001b[0;32m   5807\u001b[0m             \u001b[1;32mreturn\u001b[0m \u001b[0mself\u001b[0m\u001b[1;33m.\u001b[0m\u001b[0m_constructor\u001b[0m\u001b[1;33m(\u001b[0m\u001b[0mnew_data\u001b[0m\u001b[1;33m)\u001b[0m\u001b[1;33m.\u001b[0m\u001b[0m__finalize__\u001b[0m\u001b[1;33m(\u001b[0m\u001b[0mself\u001b[0m\u001b[1;33m,\u001b[0m \u001b[0mmethod\u001b[0m\u001b[1;33m=\u001b[0m\u001b[1;34m\"astype\"\u001b[0m\u001b[1;33m)\u001b[0m\u001b[1;33m\u001b[0m\u001b[1;33m\u001b[0m\u001b[0m\n\u001b[0;32m   5808\u001b[0m \u001b[1;33m\u001b[0m\u001b[0m\n",
      "\u001b[1;32mc:\\users\\laptop\\appdata\\local\\programs\\python\\python38-32\\lib\\site-packages\\pandas\\core\\internals\\managers.py\u001b[0m in \u001b[0;36mastype\u001b[1;34m(self, dtype, copy, errors)\u001b[0m\n\u001b[0;32m    412\u001b[0m \u001b[1;33m\u001b[0m\u001b[0m\n\u001b[0;32m    413\u001b[0m     \u001b[1;32mdef\u001b[0m \u001b[0mastype\u001b[0m\u001b[1;33m(\u001b[0m\u001b[0mself\u001b[0m\u001b[1;33m:\u001b[0m \u001b[0mT\u001b[0m\u001b[1;33m,\u001b[0m \u001b[0mdtype\u001b[0m\u001b[1;33m,\u001b[0m \u001b[0mcopy\u001b[0m\u001b[1;33m:\u001b[0m \u001b[0mbool\u001b[0m \u001b[1;33m=\u001b[0m \u001b[1;32mFalse\u001b[0m\u001b[1;33m,\u001b[0m \u001b[0merrors\u001b[0m\u001b[1;33m:\u001b[0m \u001b[0mstr\u001b[0m \u001b[1;33m=\u001b[0m \u001b[1;34m\"raise\"\u001b[0m\u001b[1;33m)\u001b[0m \u001b[1;33m->\u001b[0m \u001b[0mT\u001b[0m\u001b[1;33m:\u001b[0m\u001b[1;33m\u001b[0m\u001b[1;33m\u001b[0m\u001b[0m\n\u001b[1;32m--> 414\u001b[1;33m         \u001b[1;32mreturn\u001b[0m \u001b[0mself\u001b[0m\u001b[1;33m.\u001b[0m\u001b[0mapply\u001b[0m\u001b[1;33m(\u001b[0m\u001b[1;34m\"astype\"\u001b[0m\u001b[1;33m,\u001b[0m \u001b[0mdtype\u001b[0m\u001b[1;33m=\u001b[0m\u001b[0mdtype\u001b[0m\u001b[1;33m,\u001b[0m \u001b[0mcopy\u001b[0m\u001b[1;33m=\u001b[0m\u001b[0mcopy\u001b[0m\u001b[1;33m,\u001b[0m \u001b[0merrors\u001b[0m\u001b[1;33m=\u001b[0m\u001b[0merrors\u001b[0m\u001b[1;33m)\u001b[0m\u001b[1;33m\u001b[0m\u001b[1;33m\u001b[0m\u001b[0m\n\u001b[0m\u001b[0;32m    415\u001b[0m \u001b[1;33m\u001b[0m\u001b[0m\n\u001b[0;32m    416\u001b[0m     def convert(\n",
      "\u001b[1;32mc:\\users\\laptop\\appdata\\local\\programs\\python\\python38-32\\lib\\site-packages\\pandas\\core\\internals\\managers.py\u001b[0m in \u001b[0;36mapply\u001b[1;34m(self, f, align_keys, ignore_failures, **kwargs)\u001b[0m\n\u001b[0;32m    325\u001b[0m                     \u001b[0mapplied\u001b[0m \u001b[1;33m=\u001b[0m \u001b[0mb\u001b[0m\u001b[1;33m.\u001b[0m\u001b[0mapply\u001b[0m\u001b[1;33m(\u001b[0m\u001b[0mf\u001b[0m\u001b[1;33m,\u001b[0m \u001b[1;33m**\u001b[0m\u001b[0mkwargs\u001b[0m\u001b[1;33m)\u001b[0m\u001b[1;33m\u001b[0m\u001b[1;33m\u001b[0m\u001b[0m\n\u001b[0;32m    326\u001b[0m                 \u001b[1;32melse\u001b[0m\u001b[1;33m:\u001b[0m\u001b[1;33m\u001b[0m\u001b[1;33m\u001b[0m\u001b[0m\n\u001b[1;32m--> 327\u001b[1;33m                     \u001b[0mapplied\u001b[0m \u001b[1;33m=\u001b[0m \u001b[0mgetattr\u001b[0m\u001b[1;33m(\u001b[0m\u001b[0mb\u001b[0m\u001b[1;33m,\u001b[0m \u001b[0mf\u001b[0m\u001b[1;33m)\u001b[0m\u001b[1;33m(\u001b[0m\u001b[1;33m**\u001b[0m\u001b[0mkwargs\u001b[0m\u001b[1;33m)\u001b[0m\u001b[1;33m\u001b[0m\u001b[1;33m\u001b[0m\u001b[0m\n\u001b[0m\u001b[0;32m    328\u001b[0m             \u001b[1;32mexcept\u001b[0m \u001b[1;33m(\u001b[0m\u001b[0mTypeError\u001b[0m\u001b[1;33m,\u001b[0m \u001b[0mNotImplementedError\u001b[0m\u001b[1;33m)\u001b[0m\u001b[1;33m:\u001b[0m\u001b[1;33m\u001b[0m\u001b[1;33m\u001b[0m\u001b[0m\n\u001b[0;32m    329\u001b[0m                 \u001b[1;32mif\u001b[0m \u001b[1;32mnot\u001b[0m \u001b[0mignore_failures\u001b[0m\u001b[1;33m:\u001b[0m\u001b[1;33m\u001b[0m\u001b[1;33m\u001b[0m\u001b[0m\n",
      "\u001b[1;32mc:\\users\\laptop\\appdata\\local\\programs\\python\\python38-32\\lib\\site-packages\\pandas\\core\\internals\\blocks.py\u001b[0m in \u001b[0;36mastype\u001b[1;34m(self, dtype, copy, errors)\u001b[0m\n\u001b[0;32m    590\u001b[0m         \u001b[0mvalues\u001b[0m \u001b[1;33m=\u001b[0m \u001b[0mself\u001b[0m\u001b[1;33m.\u001b[0m\u001b[0mvalues\u001b[0m\u001b[1;33m\u001b[0m\u001b[1;33m\u001b[0m\u001b[0m\n\u001b[0;32m    591\u001b[0m \u001b[1;33m\u001b[0m\u001b[0m\n\u001b[1;32m--> 592\u001b[1;33m         \u001b[0mnew_values\u001b[0m \u001b[1;33m=\u001b[0m \u001b[0mastype_array_safe\u001b[0m\u001b[1;33m(\u001b[0m\u001b[0mvalues\u001b[0m\u001b[1;33m,\u001b[0m \u001b[0mdtype\u001b[0m\u001b[1;33m,\u001b[0m \u001b[0mcopy\u001b[0m\u001b[1;33m=\u001b[0m\u001b[0mcopy\u001b[0m\u001b[1;33m,\u001b[0m \u001b[0merrors\u001b[0m\u001b[1;33m=\u001b[0m\u001b[0merrors\u001b[0m\u001b[1;33m)\u001b[0m\u001b[1;33m\u001b[0m\u001b[1;33m\u001b[0m\u001b[0m\n\u001b[0m\u001b[0;32m    593\u001b[0m \u001b[1;33m\u001b[0m\u001b[0m\n\u001b[0;32m    594\u001b[0m         \u001b[0mnew_values\u001b[0m \u001b[1;33m=\u001b[0m \u001b[0mmaybe_coerce_values\u001b[0m\u001b[1;33m(\u001b[0m\u001b[0mnew_values\u001b[0m\u001b[1;33m)\u001b[0m\u001b[1;33m\u001b[0m\u001b[1;33m\u001b[0m\u001b[0m\n",
      "\u001b[1;32mc:\\users\\laptop\\appdata\\local\\programs\\python\\python38-32\\lib\\site-packages\\pandas\\core\\dtypes\\cast.py\u001b[0m in \u001b[0;36mastype_array_safe\u001b[1;34m(values, dtype, copy, errors)\u001b[0m\n\u001b[0;32m   1307\u001b[0m \u001b[1;33m\u001b[0m\u001b[0m\n\u001b[0;32m   1308\u001b[0m     \u001b[1;32mtry\u001b[0m\u001b[1;33m:\u001b[0m\u001b[1;33m\u001b[0m\u001b[1;33m\u001b[0m\u001b[0m\n\u001b[1;32m-> 1309\u001b[1;33m         \u001b[0mnew_values\u001b[0m \u001b[1;33m=\u001b[0m \u001b[0mastype_array\u001b[0m\u001b[1;33m(\u001b[0m\u001b[0mvalues\u001b[0m\u001b[1;33m,\u001b[0m \u001b[0mdtype\u001b[0m\u001b[1;33m,\u001b[0m \u001b[0mcopy\u001b[0m\u001b[1;33m=\u001b[0m\u001b[0mcopy\u001b[0m\u001b[1;33m)\u001b[0m\u001b[1;33m\u001b[0m\u001b[1;33m\u001b[0m\u001b[0m\n\u001b[0m\u001b[0;32m   1310\u001b[0m     \u001b[1;32mexcept\u001b[0m \u001b[1;33m(\u001b[0m\u001b[0mValueError\u001b[0m\u001b[1;33m,\u001b[0m \u001b[0mTypeError\u001b[0m\u001b[1;33m)\u001b[0m\u001b[1;33m:\u001b[0m\u001b[1;33m\u001b[0m\u001b[1;33m\u001b[0m\u001b[0m\n\u001b[0;32m   1311\u001b[0m         \u001b[1;31m# e.g. astype_nansafe can fail on object-dtype of strings\u001b[0m\u001b[1;33m\u001b[0m\u001b[1;33m\u001b[0m\u001b[1;33m\u001b[0m\u001b[0m\n",
      "\u001b[1;32mc:\\users\\laptop\\appdata\\local\\programs\\python\\python38-32\\lib\\site-packages\\pandas\\core\\dtypes\\cast.py\u001b[0m in \u001b[0;36mastype_array\u001b[1;34m(values, dtype, copy)\u001b[0m\n\u001b[0;32m   1255\u001b[0m \u001b[1;33m\u001b[0m\u001b[0m\n\u001b[0;32m   1256\u001b[0m     \u001b[1;32melse\u001b[0m\u001b[1;33m:\u001b[0m\u001b[1;33m\u001b[0m\u001b[1;33m\u001b[0m\u001b[0m\n\u001b[1;32m-> 1257\u001b[1;33m         \u001b[0mvalues\u001b[0m \u001b[1;33m=\u001b[0m \u001b[0mastype_nansafe\u001b[0m\u001b[1;33m(\u001b[0m\u001b[0mvalues\u001b[0m\u001b[1;33m,\u001b[0m \u001b[0mdtype\u001b[0m\u001b[1;33m,\u001b[0m \u001b[0mcopy\u001b[0m\u001b[1;33m=\u001b[0m\u001b[0mcopy\u001b[0m\u001b[1;33m)\u001b[0m\u001b[1;33m\u001b[0m\u001b[1;33m\u001b[0m\u001b[0m\n\u001b[0m\u001b[0;32m   1258\u001b[0m \u001b[1;33m\u001b[0m\u001b[0m\n\u001b[0;32m   1259\u001b[0m     \u001b[1;31m# in pandas we don't store numpy str dtypes, so convert to object\u001b[0m\u001b[1;33m\u001b[0m\u001b[1;33m\u001b[0m\u001b[1;33m\u001b[0m\u001b[0m\n",
      "\u001b[1;32mc:\\users\\laptop\\appdata\\local\\programs\\python\\python38-32\\lib\\site-packages\\pandas\\core\\dtypes\\cast.py\u001b[0m in \u001b[0;36mastype_nansafe\u001b[1;34m(arr, dtype, copy, skipna)\u001b[0m\n\u001b[0;32m   1199\u001b[0m     \u001b[1;32mif\u001b[0m \u001b[0mcopy\u001b[0m \u001b[1;32mor\u001b[0m \u001b[0mis_object_dtype\u001b[0m\u001b[1;33m(\u001b[0m\u001b[0marr\u001b[0m\u001b[1;33m.\u001b[0m\u001b[0mdtype\u001b[0m\u001b[1;33m)\u001b[0m \u001b[1;32mor\u001b[0m \u001b[0mis_object_dtype\u001b[0m\u001b[1;33m(\u001b[0m\u001b[0mdtype\u001b[0m\u001b[1;33m)\u001b[0m\u001b[1;33m:\u001b[0m\u001b[1;33m\u001b[0m\u001b[1;33m\u001b[0m\u001b[0m\n\u001b[0;32m   1200\u001b[0m         \u001b[1;31m# Explicit copy, or required since NumPy can't view from / to object.\u001b[0m\u001b[1;33m\u001b[0m\u001b[1;33m\u001b[0m\u001b[1;33m\u001b[0m\u001b[0m\n\u001b[1;32m-> 1201\u001b[1;33m         \u001b[1;32mreturn\u001b[0m \u001b[0marr\u001b[0m\u001b[1;33m.\u001b[0m\u001b[0mastype\u001b[0m\u001b[1;33m(\u001b[0m\u001b[0mdtype\u001b[0m\u001b[1;33m,\u001b[0m \u001b[0mcopy\u001b[0m\u001b[1;33m=\u001b[0m\u001b[1;32mTrue\u001b[0m\u001b[1;33m)\u001b[0m\u001b[1;33m\u001b[0m\u001b[1;33m\u001b[0m\u001b[0m\n\u001b[0m\u001b[0;32m   1202\u001b[0m \u001b[1;33m\u001b[0m\u001b[0m\n\u001b[0;32m   1203\u001b[0m     \u001b[1;32mreturn\u001b[0m \u001b[0marr\u001b[0m\u001b[1;33m.\u001b[0m\u001b[0mastype\u001b[0m\u001b[1;33m(\u001b[0m\u001b[0mdtype\u001b[0m\u001b[1;33m,\u001b[0m \u001b[0mcopy\u001b[0m\u001b[1;33m=\u001b[0m\u001b[0mcopy\u001b[0m\u001b[1;33m)\u001b[0m\u001b[1;33m\u001b[0m\u001b[1;33m\u001b[0m\u001b[0m\n",
      "\u001b[1;31mValueError\u001b[0m: could not convert string to float: '100 BTC'"
     ]
    }
   ],
   "source": [
    "# df = pd.read_csv(\"all_ico_data.csv\")\n",
    "df = pd.read_csv(\"icos2017.csv\")\n",
    "\n",
    "df.columns\n",
    "for i in df.index:\n",
    "    try:\n",
    "        if (type(df['hardcap'][i]) == str):# and \",\" in df['hardcap'][i]) or (type(df['ih_hardcap'][i]) == str and \",\" in df['ih_hardcap'][i]) : \n",
    "#             print(i, \".hardap>>\", df['ico_name'][i], df['hardcap'][i])\n",
    "            df['hardcap'][i] = df['hardcap'][i].replace(\",\",\"\")\n",
    "           \n",
    "        if type(df['ih_raised'][i]) == str:# and \",\" in df['ih_raised'][i]:\n",
    "#             print(i, \".ico_Raised>>\", df['ico_name'][i], df['ih_raised'][i])\n",
    "            df['ih_raised'][i] = df['ih_raised'][i].replace(\",\",\"\")            \n",
    "\n",
    "            \n",
    "        if (type(df['softcap'][i]) == str):# and \",\" in df['softcap'][i]) or (type(df['ih_softcap'][i]) == str and \",\" in df['ih_softcap'][i]) : \n",
    "            #print(i, \".hardap>>\", df['ico_name'][i], df['hardcap'][i])\n",
    "            df['softcap'][i] = df['softcap'][i].replace(\",\",\"\")\n",
    "            \n",
    "            \n",
    "    except Exception as e:\n",
    "        pass\n",
    "\n",
    "df_2017 = df\n",
    "df_2017 =df_2017.replace(r'^\\s*$', np.nan, regex=True)\n",
    "df_2017_typeA=df_2017[['hardcap','softcap', 'raised', 'ih_hardcap', 'ih_softcap', 'ih_raised', 'team_rating_ib', 'team_rating_im', 'product_rating',\n",
    "       'vision_rating', 'icobench_rating', 'icomarks_rating', 'aggregate_rating']]\n",
    "# df_2017_typeA = df_2017_typeA.dropna(how='all')\n",
    "# df_2017_typeA['ico_name'] = df_2017[['ico_name']]\n",
    "df_2017_typeA\n",
    "df_2017_typeA.insert(loc=0, column='ico_name', value = df_2017['ico_name'])\n",
    "df_2017_typeA['hardcap'] = df_2017_typeA['hardcap'].astype(float)\n",
    "df_2017_typeA['softcap'] = df_2017_typeA['softcap'].astype(float)\n",
    "df_2017_typeA['raised'] = df_2017_typeA['raised'].astype(float)\n",
    "df_2017_typeA['ih_hardcap'] = df_2017_typeA['ih_hardcap'].astype(float)\n",
    "df_2017_typeA['ih_softcap'] = df_2017_typeA['ih_softcap'].astype(float)\n",
    "df_2017_typeA['ih_raised'] = df_2017_typeA['ih_raised'].astype(float)\n",
    "\n",
    "for index in df_2017_typeA.index:\n",
    "    hc = df_2017_typeA['hardcap'][index]\n",
    "    sc =  df_2017_typeA['softcap'][index]\n",
    "    raised = df_2017_typeA['raised'][index]\n",
    "    ih_hc = df_2017_typeA ['ih_hardcap'][index]\n",
    "    ih_sc = df_2017_typeA ['ih_softcap'][index]\n",
    "    ih_raised = df_2017_typeA ['ih_raised'][index]\n",
    "    \n",
    "#     if hc.isna() and sc.isna() and raised.isna()and ih_hc.isna() and ih_sc.isna() and ih_raised.isna():\n",
    "#         df_2017_typeA = df_2017_typeA.drop(index)\n",
    "        \n",
    "#     for cols in df_2017_typeA.columns:\n",
    "  \n",
    "# df_2017_typeA.iloc[1:7,1:7]    "
   ]
  },
  {
   "cell_type": "code",
   "execution_count": null,
   "metadata": {},
   "outputs": [],
   "source": [
    "# df2 = df2.sort_values(by=['facebook_status','raised_percentage_sc'])\n",
    "# df2.dropna(subset=['raised_percentage_sc'], inplace = True)\n",
    "\n",
    "## Subset of dataframe 'df2' with only two columns for analysis of individual correlation with amount raised \n",
    "\n",
    "### 1. Soical ('facebook') Vs Amount raised \n",
    "\n",
    "df2_social_fb = df2[['facebook_status','raised_percentage_sc']]\n",
    "# for index in df2_social.index:\n",
    "#     if df2_social['facebook_status'][index] == '-':\n",
    "#         df2_social['facebook_status'][index] = df2_social['facebook_status'][index].replace(\"-\",\"\")\n",
    "#     try:\n",
    "#         df2_social['facebook_status'][index] = float(df2_social['facebook_status'][index])\n",
    "   \n",
    "#     except Exception as e:\n",
    "# #         print (e)\n",
    "#         pass\n",
    "\n",
    "# df2_social =df2_social.replace(r'^\\s*$', np.nan, regex=True)\n",
    "df2_social_fb = df2_social_fb.dropna()\n",
    "# df2_social_fb['facebook_status'] = df2_social_fb['facebook_status'].astype(float)\n",
    "\n",
    "sns.scatterplot(df2.social_rating,df2.raised_percentage_sc)\n",
    "sns.barplot('facebook_status','raised_percentage_sc', data=df2_social_fb)\n",
    "\n",
    "df2_social_fb.corr()\n",
    "social_reg = LinearRegression().fit(df2_social_fb.facebook_status.values.reshape(-1,1),df2_social_fb.raised_percentage_sc.values.reshape(-1,1))\n",
    "social_reg.coef_"
   ]
  }
 ],
 "metadata": {
  "kernelspec": {
   "display_name": "Python 3",
   "language": "python",
   "name": "python3"
  },
  "language_info": {
   "codemirror_mode": {
    "name": "ipython",
    "version": 3
   },
   "file_extension": ".py",
   "mimetype": "text/x-python",
   "name": "python",
   "nbconvert_exporter": "python",
   "pygments_lexer": "ipython3",
   "version": "3.8.5"
  }
 },
 "nbformat": 4,
 "nbformat_minor": 4
}
